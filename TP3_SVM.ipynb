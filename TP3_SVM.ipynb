{
 "cells": [
  {
   "cell_type": "markdown",
   "metadata": {},
   "source": [
    "# Rapport du TP3 - SVM\n",
    "### Duc Hau NGUYEN - Mohammed"
   ]
  },
  {
   "cell_type": "markdown",
   "metadata": {},
   "source": [
    "Importation des dépendances liées aux TP:"
   ]
  },
  {
   "cell_type": "code",
   "execution_count": 16,
   "metadata": {},
   "outputs": [],
   "source": [
    "from sklearn import datasets, model_selection\n",
    "from sklearn import svm\n",
    "from sklearn.metrics import precision_score, confusion_matrix\n",
    "from sklearn.model_selection import GridSearchCV\n",
    "\n",
    "import numpy as np\n",
    "\n",
    "import matplotlib.pyplot as plt\n",
    "from time import time"
   ]
  },
  {
   "cell_type": "markdown",
   "metadata": {},
   "source": [
    "- Charger le jeu de données MNIST"
   ]
  },
  {
   "cell_type": "code",
   "execution_count": 4,
   "metadata": {},
   "outputs": [],
   "source": [
    "mnist = datasets.fetch_mldata('MNIST original')\n",
    "\n",
    "# Réduire la taille de donnée pour le TP:\n",
    "index = np.random.randint(70000, size=5000)\n",
    "data = mnist.data[index]\n",
    "target = mnist.target[index]"
   ]
  },
  {
   "cell_type": "markdown",
   "metadata": {},
   "source": [
    "- Diviser la base de données à 70% pour l’apprentissage (training) et à 30% pour les tests"
   ]
  },
  {
   "cell_type": "code",
   "execution_count": 5,
   "metadata": {},
   "outputs": [],
   "source": [
    "x_train, x_test, y_train, y_test = model_selection.train_test_split(data, target, train_size=0.7, test_size=0.3)"
   ]
  },
  {
   "cell_type": "markdown",
   "metadata": {},
   "source": [
    "- Construire un modèle de classification ayant comme paramètres un noyau linear: `clsvm = svm.SVC(kernel='linear')`"
   ]
  },
  {
   "cell_type": "code",
   "execution_count": 6,
   "metadata": {},
   "outputs": [
    {
     "name": "stdout",
     "output_type": "stream",
     "text": [
      "Score =  0.9126666666666666\n"
     ]
    }
   ],
   "source": [
    "# Construire modèle\n",
    "SVM_model = svm.SVC(kernel='linear')\n",
    "\n",
    "# Apprendre\n",
    "SVM_model.fit(x_train, y_train)\n",
    "# predicted = SVM_model.predict(x_test)\n",
    "\n",
    "# Afficher score\n",
    "print(\"Score = \", SVM_model.score(x_test, y_test))"
   ]
  },
  {
   "cell_type": "markdown",
   "metadata": {},
   "source": [
    "- Tentez d’améliorer les résultats en variant la fonction noyau: `'poly'`, `'rbf'`, `'sigmoid'`, `'precomputed'`.  "
   ]
  },
  {
   "cell_type": "code",
   "execution_count": 7,
   "metadata": {},
   "outputs": [],
   "source": [
    "# print result\n",
    "def print_report(loop, params, precisions, times):\n",
    "    for i in range(loop):\n",
    "        print(params[i], '\\t|\\t', precisions[i], '\\t|\\t', times[i])"
   ]
  },
  {
   "cell_type": "code",
   "execution_count": 8,
   "metadata": {},
   "outputs": [
    {
     "name": "stdout",
     "output_type": "stream",
     "text": [
      "kernels = poly .. rbf .. sigmoid .. \n",
      "kernel\t| score\t| temps\n",
      "=============================================\n",
      "poly \t|\t 0.936 \t|\t 3.5287156105041504\n",
      "rbf \t|\t 0.15733333333333333 \t|\t 19.899606943130493\n",
      "sigmoid \t|\t 0.114 \t|\t 18.090445518493652\n",
      "Meilleur noyau :  poly\n"
     ]
    }
   ],
   "source": [
    "kernels = ['poly', 'rbf', 'sigmoid']\n",
    "ft_max = len(kernels)\n",
    "temps_execs = np.zeros(ft_max)\n",
    "precisions = np.zeros(ft_max)\n",
    "\n",
    "print(\"kernels = \", end='')\n",
    "for i in range(ft_max):\n",
    "    print(kernels[i], '.. ', end='')\n",
    "    \n",
    "    t_before = time()\n",
    "    \n",
    "    # Construire modèle\n",
    "    x_train, x_test, y_train, y_test = model_selection.train_test_split(data, target, train_size=0.7, test_size=0.3)\n",
    "    SVM_model = svm.SVC(kernel = kernels[i])\n",
    "    \n",
    "    # Afficher score\n",
    "    SVM_model.fit(x_train, y_train)\n",
    "    \n",
    "    t_after = time()\n",
    "    temps_execs[i] = t_after - t_before\n",
    "    precisions[i] = SVM_model.score(x_test, y_test)  \n",
    "\n",
    "# print result\n",
    "print(\"\\nkernel\\t| score\\t| temps\")\n",
    "print(\"=============================================\")\n",
    "print_report(ft_max, kernels, precisions, temps_execs)\n",
    "    \n",
    "print(\"Meilleur noyau : \", kernels[ np.argmax(precisions) ])\n",
    "    "
   ]
  },
  {
   "cell_type": "code",
   "execution_count": 9,
   "metadata": {},
   "outputs": [
    {
     "data": {
      "text/plain": [
       "0.09866666666666667"
      ]
     },
     "execution_count": 9,
     "metadata": {},
     "output_type": "execute_result"
    }
   ],
   "source": [
    "x_train, x_test, y_train, y_test = model_selection.train_test_split(data, target, train_size=0.7, test_size=0.3)\n",
    "SVM_model = svm.SVC(kernel = 'precomputed')\n",
    "SVM_model.fit(np.dot(x_train, x_train.T), y_train)\n",
    "\n",
    "kernel_test = np.dot(x_test, x_train.T)\n",
    "SVM_model.score(kernel_test, y_test)"
   ]
  },
  {
   "cell_type": "markdown",
   "metadata": {},
   "source": [
    "- Faites varier le paramètre de tolérance aux erreurs **C**.\n",
    "- Tracez la courbe d’erreur de classification sur les données d’entrainement et de test en fonction de **C**. "
   ]
  },
  {
   "cell_type": "code",
   "execution_count": 10,
   "metadata": {},
   "outputs": [
    {
     "name": "stdout",
     "output_type": "stream",
     "text": [
      "C = 1 .. 2 .. 3 .. 4 .. 5 .. 6 .. 7 .. 8 .. 9 .. \n",
      "C\t| score\t| temps\n",
      "=============================================\n",
      "1 \t|\t 0.934 \t|\t 3.3383212089538574\n",
      "2 \t|\t 0.938 \t|\t 3.1976003646850586\n",
      "3 \t|\t 0.9306666666666666 \t|\t 3.3281121253967285\n",
      "4 \t|\t 0.9393333333333334 \t|\t 3.4022300243377686\n",
      "5 \t|\t 0.9306666666666666 \t|\t 3.4481053352355957\n",
      "6 \t|\t 0.932 \t|\t 3.2552976608276367\n",
      "7 \t|\t 0.936 \t|\t 3.3524169921875\n",
      "8 \t|\t 0.9266666666666666 \t|\t 3.3129312992095947\n",
      "9 \t|\t 0.9426666666666667 \t|\t 3.2120320796966553\n",
      "Meilleur C :  9\n"
     ]
    },
    {
     "data": {
      "image/png": "[encoded data removed]",
      "text/plain": [
       "<Figure size 432x288 with 1 Axes>"
      ]
     },
     "metadata": {},
     "output_type": "display_data"
    }
   ],
   "source": [
    "C = np.arange(1, 10)\n",
    "ft_max = len(C)\n",
    "temps_execs = np.zeros(ft_max)\n",
    "precisions = np.zeros(ft_max)\n",
    "\n",
    "print(\"C = \", end='')\n",
    "for i in range(ft_max):\n",
    "    print(C[i], '.. ', end='')\n",
    "    \n",
    "    t_before = time()\n",
    "    \n",
    "    # Construire modèle\n",
    "    x_train, x_test, y_train, y_test = model_selection.train_test_split(data, target, train_size=0.7, test_size=0.3)\n",
    "    SVM_model = svm.SVC(kernel = 'poly', C = C[i])\n",
    "    \n",
    "    # Afficher score\n",
    "    SVM_model.fit(x_train, y_train)\n",
    "    \n",
    "    t_after = time()\n",
    "    temps_execs[i] = t_after - t_before\n",
    "    precisions[i] = SVM_model.score(x_test, y_test)  \n",
    "\n",
    "# print result\n",
    "print(\"\\nC\\t| score\\t| temps\")\n",
    "print(\"=============================================\")\n",
    "print_report(ft_max, C, precisions, temps_execs)\n",
    "    \n",
    "print(\"Meilleur C : \", C[ np.argmax(precisions) ])\n",
    "\n",
    "plt.plot(C, precisions, 'blue')\n",
    "#plt.plot(C, temps_execs, 'red')\n",
    "plt.show()"
   ]
  },
  {
   "cell_type": "markdown",
   "metadata": {},
   "source": [
    "- Faites varier le paramètre `gamma`.\n",
    "- Calculez la précision du classificieur pour chaque gamma sur les données d’entrainement et de test. "
   ]
  },
  {
   "cell_type": "code",
   "execution_count": 11,
   "metadata": {},
   "outputs": [
    {
     "name": "stdout",
     "output_type": "stream",
     "text": [
      "gamma = 1 .. 2 .. 3 .. 4 .. 5 .. 6 .. 7 .. 8 .. 9 .. 10 .. 11 .. 12 .. 13 .. 14 .. 15 .. 16 .. 17 .. 18 .. 19 .. 20 .. 21 .. 22 .. 23 .. 24 .. 25 .. 26 .. 27 .. 28 .. 29 .. Gamma\t| score\t| temps\n",
      "=============================================\n",
      "1 \t|\t 0.9393333333333334 \t|\t 3.1702170372009277\n",
      "2 \t|\t 0.9313333333333333 \t|\t 3.182664155960083\n",
      "3 \t|\t 0.9433333333333334 \t|\t 3.235161542892456\n",
      "4 \t|\t 0.9393333333333334 \t|\t 3.1295862197875977\n",
      "5 \t|\t 0.9373333333333334 \t|\t 3.188579559326172\n",
      "6 \t|\t 0.9453333333333334 \t|\t 3.355221748352051\n",
      "7 \t|\t 0.9433333333333334 \t|\t 3.466783046722412\n",
      "8 \t|\t 0.934 \t|\t 3.3296008110046387\n",
      "9 \t|\t 0.9333333333333333 \t|\t 3.2485365867614746\n",
      "10 \t|\t 0.9413333333333334 \t|\t 3.229116439819336\n",
      "11 \t|\t 0.9366666666666666 \t|\t 3.307501792907715\n",
      "12 \t|\t 0.9333333333333333 \t|\t 3.2085094451904297\n",
      "13 \t|\t 0.9326666666666666 \t|\t 3.230985164642334\n",
      "14 \t|\t 0.936 \t|\t 3.4415175914764404\n",
      "15 \t|\t 0.9453333333333334 \t|\t 3.402674913406372\n",
      "16 \t|\t 0.9226666666666666 \t|\t 3.2740063667297363\n",
      "17 \t|\t 0.9353333333333333 \t|\t 3.3577005863189697\n",
      "18 \t|\t 0.9313333333333333 \t|\t 3.164210319519043\n",
      "19 \t|\t 0.936 \t|\t 3.340135335922241\n",
      "20 \t|\t 0.9386666666666666 \t|\t 3.4183619022369385\n",
      "21 \t|\t 0.934 \t|\t 3.290739059448242\n",
      "22 \t|\t 0.9393333333333334 \t|\t 3.272355318069458\n",
      "23 \t|\t 0.9453333333333334 \t|\t 3.3326077461242676\n",
      "24 \t|\t 0.9446666666666667 \t|\t 3.2894768714904785\n",
      "25 \t|\t 0.9406666666666667 \t|\t 3.3544816970825195\n",
      "26 \t|\t 0.9273333333333333 \t|\t 3.2354211807250977\n",
      "27 \t|\t 0.9306666666666666 \t|\t 3.2502872943878174\n",
      "28 \t|\t 0.9293333333333333 \t|\t 3.2059338092803955\n",
      "29 \t|\t 0.9333333333333333 \t|\t 3.3836145401000977\n",
      "Meilleur gamma :  6\n"
     ]
    },
    {
     "data": {
      "image/png": "[encoded data removed]",
      "text/plain": [
       "<Figure size 432x288 with 1 Axes>"
      ]
     },
     "metadata": {},
     "output_type": "display_data"
    }
   ],
   "source": [
    "gamma = np.arange(1, 30)\n",
    "\n",
    "ft_max = len(gamma)\n",
    "temps_execs = np.zeros(ft_max)\n",
    "precisions = np.zeros(ft_max)\n",
    "\n",
    "print(\"gamma = \", end='')\n",
    "for i in range(ft_max):\n",
    "    print(gamma[i], '.. ', end='')\n",
    "    \n",
    "    t_before = time()\n",
    "    \n",
    "    # Construire modèle\n",
    "    x_train, x_test, y_train, y_test = model_selection.train_test_split(data, target, train_size=0.7, test_size=0.3)\n",
    "    SVM_model = svm.SVC(kernel = 'poly', C = 4, gamma = gamma[i])\n",
    "    \n",
    "    # Afficher score\n",
    "    SVM_model.fit(x_train, y_train)\n",
    "    \n",
    "    t_after = time()\n",
    "    temps_execs[i] = t_after - t_before\n",
    "    precisions[i] = SVM_model.score(x_test, y_test)  \n",
    "\n",
    "# print result\n",
    "print(\"Gamma\\t| score\\t| temps\")\n",
    "print(\"=============================================\")\n",
    "print_report(ft_max, gamma, precisions, temps_execs)\n",
    "    \n",
    "print(\"Meilleur gamma : \", gamma[ np.argmax(precisions) ])\n",
    "\n",
    "plt.bar(gamma, precisions)\n",
    "plt.show()"
   ]
  },
  {
   "cell_type": "markdown",
   "metadata": {},
   "source": [
    "- Construisez un classifieur à partir des données en utilisant **GridSearchCV** pour trouver les meilleurs paramètres. "
   ]
  },
  {
   "cell_type": "code",
   "execution_count": 13,
   "metadata": {},
   "outputs": [
    {
     "data": {
      "text/plain": [
       "GridSearchCV(cv=5, error_score='raise',\n",
       "       estimator=SVC(C=1.0, cache_size=200, class_weight=None, coef0=0.0,\n",
       "  decision_function_shape='ovr', degree=3, gamma=0.1, kernel='poly',\n",
       "  max_iter=-1, probability=False, random_state=None, shrinking=True,\n",
       "  tol=0.001, verbose=False),\n",
       "       fit_params=None, iid=True, n_jobs=1,\n",
       "       param_grid={'C': [1.0, 10.0], 'gamma': array([1.e-02, 1.e-01, 1.e+00, 1.e+01, 1.e+02])},\n",
       "       pre_dispatch='2*n_jobs', refit=True, return_train_score='warn',\n",
       "       scoring=None, verbose=0)"
      ]
     },
     "execution_count": 13,
     "metadata": {},
     "output_type": "execute_result"
    }
   ],
   "source": [
    "# svm_optimum = GridSearchCV(svm.SVC(kernel='poly'), cv=5,\n",
    "#                            param_grid={\n",
    "#                                \"C\": [1e0, 1e1, 1e2, 1e3, 1, 2, 3, 4, 5, 10, 20, 30, 40, 50, 60, 70, 80, 90, 100],\n",
    "#                                \"gamma\": np.logspace(-2, 2, 5),\n",
    "#                                \"kernels\": ['poly', 'rbf', 'sigmoid']\n",
    "#                            })\n",
    "\n",
    "svr = GridSearchCV(svm.SVC(kernel='poly', gamma=0.1), cv=5,param_grid={\n",
    "    \"C\": [1e0, 1e1],\n",
    "    \"gamma\": np.logspace(-2, 2, 5)\n",
    "})\n",
    "svr.fit(x_train, y_train)\n",
    "# x_train, x_test, y_train, y_test = model_selection.train_test_split(data, target, train_size=0.7, test_size=0.3)\n",
    "# svm_optimum.fit(x_train, y_train)"
   ]
  },
  {
   "cell_type": "markdown",
   "metadata": {},
   "source": [
    "- La matrice de confusion "
   ]
  },
  {
   "cell_type": "code",
   "execution_count": 19,
   "metadata": {},
   "outputs": [
    {
     "name": "stdout",
     "output_type": "stream",
     "text": [
      "[[138   0   0   0   0   1   2   0   0   0]\n",
      " [  0 169   1   1   0   0   0   1   3   0]\n",
      " [  0   1 149   0   1   0   0   1   0   0]\n",
      " [  0   0   4 126   1   3   0   2   2   2]\n",
      " [  0   1   1   0 147   1   1   0   0   3]\n",
      " [  1   3   0   6   1 126   1   0   1   1]\n",
      " [  0   0   0   0   2   2 136   0   1   0]\n",
      " [  1   1   0   0   1   0   0 125   2   1]\n",
      " [  3   5   1   4   0   6   2   0 139   1]\n",
      " [  3   1   0   3   7   1   0   2   3 145]]\n"
     ]
    }
   ],
   "source": [
    "SVM_optimum = svm.SVC(kernel = 'poly', C = 1, gamma = 0.1)\n",
    "SVM_optimum.fit(x_train, y_train)\n",
    "predict = SVM_optimum.predict(x_test)\n",
    "cm = confusion_matrix(y_test, predict)\n",
    "print(cm)"
   ]
  },
  {
   "cell_type": "markdown",
   "metadata": {},
   "source": [
    "- A votre avis, quels sont les avantages et les inconvénients du SVM ?"
   ]
  },
  {
   "cell_type": "markdown",
   "metadata": {},
   "source": [
    "**Ans**:\n",
    "- **Avantage**:\n",
    "    - Possibilité de traiter un jeu de données de grande dimension, le nombre de caractéristique pourra dépasser le nombre d'observation.\n",
    "    - Capable de traiter les problème de classification complexe (non linéaire) avec des fonctions noyau (kernel) dédiée.\n",
    "    - Adapté au bruit (en ajustant le paramètre C).\n",
    "- **Inconvénient**:\n",
    "    - Le choix des paramètre est difficile, manque de méthode d'analyse pour déterminer les choix de paramètre.\n",
    "    - Très coûteuse lors d'une grande nombre d'observation."
   ]
  },
  {
   "cell_type": "code",
   "execution_count": null,
   "metadata": {},
   "outputs": [],
   "source": []
  }
 ],
 "metadata": {
  "kernelspec": {
   "display_name": "Python 3",
   "language": "python",
   "name": "python3"
  },
  "language_info": {
   "codemirror_mode": {
    "name": "ipython",
    "version": 3
   },
   "file_extension": ".py",
   "mimetype": "text/x-python",
   "name": "python",
   "nbconvert_exporter": "python",
   "pygments_lexer": "ipython3",
   "version": "3.6.5"
  }
 },
 "nbformat": 4,
 "nbformat_minor": 2
}
