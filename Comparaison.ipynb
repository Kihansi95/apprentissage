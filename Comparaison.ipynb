{
 "cells": [
  {
   "cell_type": "markdown",
   "metadata": {},
   "source": [
    "#  Comparaison des 3 méthodes: k-NN, ANN et SVM\n",
    "\n",
    "> Réaliser par Mohamed ELFILALI et Nguyen Duc Hau\n",
    "\n",
    "## Contexte\n",
    "\n",
    "Ce travail est réalisé dans le cardre du cours Apprentissage. Cela consiste en 3 TP.\n",
    "\n",
    "Les 3 méthodes sont expérimentées pendant le travail des 3 TP. Le jeu de donnée utilisé est **MNIST original** []"
   ]
  }
 ],
 "metadata": {
  "kernelspec": {
   "display_name": "Python 3",
   "language": "python",
   "name": "python3"
  },
  "language_info": {
   "codemirror_mode": {
    "name": "ipython",
    "version": 3
   },
   "file_extension": ".py",
   "mimetype": "text/x-python",
   "name": "python",
   "nbconvert_exporter": "python",
   "pygments_lexer": "ipython3",
   "version": "3.6.6"
  }
 },
 "nbformat": 4,
 "nbformat_minor": 2
}
