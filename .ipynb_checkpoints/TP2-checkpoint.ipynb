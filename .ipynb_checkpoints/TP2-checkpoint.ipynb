{
 "cells": [
  {
   "cell_type": "markdown",
   "metadata": {},
   "source": [
    "#  Rapport de TP2 - ANN\n",
    "\n",
    "> Réaliser par Mohamed ELFILALI et Nguyen Duc Hau\n",
    "\n",
    "## Tester performance de Réseau de Neuronne avec différents paramètres\n",
    "\n",
    "L'Objectif du TP est de trouver les paramètres les plus pertinents de ANN (**Artificial Neural Network** - Réseau de Neuronne Artificiel)"
   ]
  },
  {
   "cell_type": "code",
   "execution_count": 1,
   "metadata": {},
   "outputs": [],
   "source": [
    "from sklearn import datasets, model_selection\n",
    "from sklearn.metrics import precision_score\n",
    "import numpy as np\n",
    "from sklearn.neural_network import MLPClassifier\n",
    "import matplotlib.pyplot as plt\n",
    "from time import time\n",
    "from sklearn.metrics import accuracy_score\n",
    "\n",
    "import warnings; \n",
    "warnings.simplefilter('ignore')\n",
    "\n",
    "mnist = datasets.fetch_mldata('MNIST original')"
   ]
  },
  {
   "cell_type": "markdown",
   "metadata": {},
   "source": [
    "Tout d’abord on va couper notre jeu donné en deux parties ; la partie qui va servir pour l’apprentissage et l’autre pour l’entrainement. Pour cela on va utiliser la méthode « model_selection » avec une liste d’indice aléatoire pour bien mélanger nos données"
   ]
  },
  {
   "cell_type": "code",
   "execution_count": 2,
   "metadata": {},
   "outputs": [],
   "source": [
    "index = np.random.randint(70000, size=49000)\n",
    "data = mnist.data[index]\n",
    "target = mnist.target[index]"
   ]
  },
  {
   "cell_type": "markdown",
   "metadata": {},
   "source": [
    "Par la suite, on essaie de tester de manière exhautive les valeurs possibles de chaque paramètre. Chaque paramètre prends en compte la valeur optimum en temps d'exécution de paramtère analysé précédent pour but d'accélérer l'expérimentation."
   ]
  },
  {
   "cell_type": "markdown",
   "metadata": {},
   "source": [
    "### Les couches de ANN"
   ]
  },
  {
   "cell_type": "markdown",
   "metadata": {},
   "source": [
    "Pour des raisons de limite de calcul de machine personnelle, on se limite par tester le nombre de couche entre 1 et 10. Chaque couche dispose 50 neurone."
   ]
  },
  {
   "cell_type": "code",
   "execution_count": 8,
   "metadata": {},
   "outputs": [
    {
     "name": "stdout",
     "output_type": "stream",
     "text": [
      "........."
     ]
    }
   ],
   "source": [
    "max_l = 10\n",
    "min_l = 1\n",
    "precisions = np.zeros(max_l - min_l)\n",
    "error_rate = np.zeros(max_l - min_l)\n",
    "temps_execs = np.zeros(max_l - min_l)\n",
    "hidden_layer = (50,)*(max_l - min_l+1)\n",
    "\n",
    "# split donnée\n",
    "x_train, x_test, y_train, y_test = model_selection.train_test_split(data, target, train_size=0.8, test_size=0.2)\n",
    "\n",
    "for n_layer in range (max_l - min_l):\n",
    "    \n",
    "    \n",
    "    # Init modèle\n",
    "    MLP_model = MLPClassifier(hidden_layer_sizes = hidden_layer[0:n_layer])\n",
    "    t_before = time()\n",
    "    MLP_model.fit(x_train, y_train)\n",
    "    t_after = time()\n",
    "    \n",
    "    y_predict = MLP_model.predict(x_test)\n",
    "    \n",
    "    temps_execs[n_layer] = t_after - t_before\n",
    "    precisions[n_layer] = precision_score(y_test, y_predict, average='micro')\n",
    "    error_rate[n_layer] = 1 - accuracy_score(y_test, y_predict)\n",
    "    print('.', end='')"
   ]
  },
  {
   "cell_type": "code",
   "execution_count": 19,
   "metadata": {},
   "outputs": [
    {
     "data": {
      "image/png": "[encoded data removed]",
      "text/plain": [
       "<Figure size 432x288 with 3 Axes>"
      ]
     },
     "metadata": {
      "needs_background": "light"
     },
     "output_type": "display_data"
    },
    {
     "name": "stdout",
     "output_type": "stream",
     "text": [
      "Meilleur nombre de couche pour la précision :  8\n",
      "Meilleur nombre de couche pour le temps d'entraînement :  0\n"
     ]
    }
   ],
   "source": [
    "plt.subplot(3, 1, 1)\n",
    "plt.bar(range(max_l - min_l) , precisions, color='#355C7D')\n",
    "plt.ylim(0,1.2)\n",
    "for i in range(max_l - min_l):\n",
    "    plt.text(i, precisions[i], \"%.2f\"%precisions[i], fontweight='bold', color='#F67280', ha='center', va='bottom')\n",
    "plt.ylabel(\"Précision\")\n",
    "    \n",
    "plt.subplot(3, 1, 2)\n",
    "plt.bar(range(max_l - min_l) , temps_execs, color='#83AF9B')\n",
    "plt.ylim(0, max(temps_execs) + min(temps_execs))\n",
    "for i in range(max_l - min_l):\n",
    "    plt.text(i, temps_execs[i], \"%.2f\"%temps_execs[i], fontweight='bold', color='#F67280', ha='center', va='bottom')\n",
    "plt.ylabel(\"Temps d'entraînement\")\n",
    "\n",
    "plt.subplot(3, 1, 3)\n",
    "plt.plot(range(max_l - min_l) , error_rate, color='#651E3E')\n",
    "for i in range(max_l - min_l):\n",
    "    plt.text(i, error_rate[i], \"%.2f\"%error_rate[i], fontweight='bold', color='#F67280', ha='center', va='bottom')\n",
    "plt.ylabel(\"Taux d'erreur\")\n",
    "\n",
    "plt.xlabel(\"Nombre de couche\")\n",
    "plt.show() \n",
    "\n",
    "print(\"Meilleur nombre de couche pour la précision : \", np.argmax(precisions))\n",
    "print(\"Meilleur nombre de couche pour le temps d'entraînement : \", np.argmin(temps_execs))"
   ]
  },
  {
   "cell_type": "markdown",
   "metadata": {},
   "source": [
    "Testons maintenant les tailles différents des couches. "
   ]
  },
  {
   "cell_type": "code",
   "execution_count": 22,
   "metadata": {},
   "outputs": [
    {
     "name": "stdout",
     "output_type": "stream",
     "text": [
      "......"
     ]
    }
   ],
   "source": [
    "couche_optimal = 2\n",
    "tailles = np.arange(10, 70, 10)\n",
    "size = tailles.size\n",
    "precisions = np.zeros(size)\n",
    "temps_execs = np.zeros(size)\n",
    "error_rate = np.zeros(size)\n",
    "\n",
    "# split donnée\n",
    "x_train, x_test, y_train, y_test = model_selection.train_test_split(data, target, train_size=0.8, test_size=0.2)\n",
    "\n",
    "for i in range(size):\n",
    "    \n",
    "    hidden_layer = (tailles[i],)*(couche_optimal)\n",
    "    t_before = time()\n",
    "    \n",
    "    # Init modèle\n",
    "    MLP_model = MLPClassifier(hidden_layer_sizes = hidden_layer)\n",
    "    MLP_model.fit(x_train, y_train)\n",
    "    \n",
    "    t_after = time()\n",
    "    temps_execs[i] = t_after - t_before\n",
    "    y_predict = MLP_model.predict(x_test)\n",
    "    \n",
    "    precisions[i] = precision_score(y_test, y_predict, average='micro')\n",
    "    error_rate[i] = 1 - accuracy_score(y_test, y_predict)\n",
    "    print('.', end='')"
   ]
  },
  {
   "cell_type": "code",
   "execution_count": 27,
   "metadata": {},
   "outputs": [
    {
     "data": {
      "image/png": "[encoded data removed]",
      "text/plain": [
       "<Figure size 432x288 with 3 Axes>"
      ]
     },
     "metadata": {
      "needs_background": "light"
     },
     "output_type": "display_data"
    },
    {
     "name": "stdout",
     "output_type": "stream",
     "text": [
      "Meilleur nombre de couche pour la précision :  10\n",
      "Meilleur nombre de couche pour le temps d'entraînement :  60\n"
     ]
    }
   ],
   "source": [
    "plt.subplot(3, 1, 1)\n",
    "plt.bar(tailles , precisions, color='#355C7D')\n",
    "plt.ylim(0,1.2)\n",
    "for i in range(size):\n",
    "    plt.text(tailles[i], precisions[i], \"%.2f\"%precisions[i], fontweight='bold', color='#F67280', ha='center', va='bottom')\n",
    "plt.ylabel(\"Précision\")\n",
    "    \n",
    "plt.subplot(3, 1, 2)\n",
    "plt.bar(tailles , temps_execs, color='#83AF9B')\n",
    "plt.ylim(0, max(temps_execs) + min(temps_execs))\n",
    "for i in range(size):\n",
    "    plt.text(tailles[i], temps_execs[i], \"%.2f\"%temps_execs[i], fontweight='bold', color='#F67280', ha='center', va='bottom')\n",
    "plt.ylabel('Temps')\n",
    "\n",
    "plt.subplot(3, 1, 3)\n",
    "plt.plot(tailles , error_rate, color='#651E3E')\n",
    "plt.ylim(0, max(error_rate) + min(error_rate))\n",
    "for i in range(size):\n",
    "    plt.text(tailles[i], error_rate[i], \"%.2f\"%error_rate[i], fontweight='bold', color='#F67280', ha='center', va='bottom')\n",
    "plt.ylabel('Taux d\\'erreur')\n",
    "\n",
    "plt.xlabel(\"Nombre de couche\")\n",
    "plt.show() \n",
    "\n",
    "print(\"Meilleur nombre de couche pour la précision : \", tailles[ np.argmin(precisions) ])\n",
    "print(\"Meilleur nombre de couche pour le temps d'entraînement : \", tailles[ np.argmin(temps_execs) ])"
   ]
  },
  {
   "cell_type": "markdown",
   "metadata": {},
   "source": [
    "### Les algorithmes d'optimisation"
   ]
  },
  {
   "cell_type": "markdown",
   "metadata": {},
   "source": [
    "Le choix des algorithme d'optimisation est générallement pour le temps d'entraînement. Certain algorithme permets le temps de convergence vers l'optimum plus vite, mais risque de tomber dans l'optimum local ou impossible d'approcher le \"vrai\" optimum à partir de certain nombre de pas. D'autre convergente moins vite mais on est sûr d'avoir le moindre d'erreur."
   ]
  },
  {
   "cell_type": "code",
   "execution_count": null,
   "metadata": {},
   "outputs": [],
   "source": [
    "couche_optimal = 2\n",
    "size_optimal = 50\n",
    "hidden_layer_optimal = (couche_optimal)*(couche_optimal)\n",
    "\n",
    "solvers = ['lbfgs', 'sgd', 'adam']\n",
    "size = solvers.size\n",
    "temps_execs = np.zeros(size)\n",
    "precisions = np.zeros(size)\n",
    "error_rate = np.zeros(size)\n",
    "\n",
    "# split donnée\n",
    "x_train, x_test, y_train, y_test = model_selection.train_test_split(data, target, train_size=0.8, test_size=0.2)\n",
    "\n",
    "for i in range(size):\n",
    "    \n",
    "    t_before = time()\n",
    "    \n",
    "    MLP_model = MLPClassifier(hidden_layer_sizes = hidden_layer_optimal, ,solver = solvers[i])\n",
    "    MLP_model.fit(x_train, y_train)\n",
    "    \n",
    "    t_after = time()\n",
    "    temps_execs[i] = t_after - t_before\n",
    "    y_predict = MLP_model.predict(x_test)\n",
    "    precisions[i] = precision_score(y_test, y_predict, average='micro')\n",
    "    \n",
    "    print(solvers[i], '\\t|', \"%.3f\" % temps_execs[i], '\\t|', \"%.3f\" % precisions[i])"
   ]
  },
  {
   "cell_type": "code",
   "execution_count": null,
   "metadata": {},
   "outputs": [],
   "source": [
    "plt.subplot(3, 1, 1)\n",
    "plt.bar(solvers , precisions, color='#355C7D')\n",
    "plt.ylim(0,1.2)\n",
    "for i in range(size):\n",
    "    plt.text(i, precisions[i], \"%.2f\"%precisions[i], fontweight='bold', color='#F67280', ha='center', va='bottom')\n",
    "plt.ylabel(\"Précision\")\n",
    "    \n",
    "plt.subplot(3, 1, 2)\n",
    "plt.bar(solvers , temps_exec, color='#83AF9B')\n",
    "plt.ylim(0, max(temps_execs) + min(temps_execs))\n",
    "for i in range(size):\n",
    "    plt.text(i, temps_exec[i], \"%.2f\"%temps_exec[i], fontweight='bold', color='#F67280', ha='center', va='bottom')\n",
    "plt.ylabel('Temps d\\'entraînement')\n",
    "\n",
    "plt.subplot(3, 1, 3)\n",
    "plt.plot(solvers , error_rate, color='#651E3E')\n",
    "for i in range(size):\n",
    "    plt.text(i, error_rate[i], \"%.2f\"%error_rate[i], fontweight='bold', color='#F67280', ha='center', va='bottom')\n",
    "plt.ylabel('Taux d\\'erreur')\n",
    "\n",
    "plt.xlabel(\"Nombre de couche\")\n",
    "plt.show() \n",
    "\n",
    "print(\"Meilleur solver pour la précision : \", solvers[ np.argmin(precisions) ])\n",
    "print(\"Meilleur solver pour le temps d'entraînement : \", solvers[ np.argmin(temps_execs) ])"
   ]
  },
  {
   "cell_type": "markdown",
   "metadata": {},
   "source": [
    "### Fonction d'activation"
   ]
  },
  {
   "cell_type": "markdown",
   "metadata": {},
   "source": [
    "Les fonctions d'activation n'affecteront pas beaucoup sur le temps de calcul mais surtout sur la précision du résultat final"
   ]
  },
  {
   "cell_type": "code",
   "execution_count": 9,
   "metadata": {},
   "outputs": [
    {
     "ename": "AttributeError",
     "evalue": "'list' object has no attribute 'size'",
     "output_type": "error",
     "traceback": [
      "\u001b[1;31m---------------------------------------------------------------------------\u001b[0m",
      "\u001b[1;31mAttributeError\u001b[0m                            Traceback (most recent call last)",
      "\u001b[1;32m<ipython-input-9-9e032f279e02>\u001b[0m in \u001b[0;36m<module>\u001b[1;34m\u001b[0m\n\u001b[0;32m      1\u001b[0m \u001b[0mx_train\u001b[0m\u001b[1;33m,\u001b[0m \u001b[0mx_test\u001b[0m\u001b[1;33m,\u001b[0m \u001b[0my_train\u001b[0m\u001b[1;33m,\u001b[0m \u001b[0my_test\u001b[0m \u001b[1;33m=\u001b[0m \u001b[0mmodel_selection\u001b[0m\u001b[1;33m.\u001b[0m\u001b[0mtrain_test_split\u001b[0m\u001b[1;33m(\u001b[0m\u001b[0mdata\u001b[0m\u001b[1;33m,\u001b[0m \u001b[0mtarget\u001b[0m\u001b[1;33m,\u001b[0m \u001b[0mtrain_size\u001b[0m\u001b[1;33m=\u001b[0m\u001b[1;36m0.8\u001b[0m\u001b[1;33m,\u001b[0m \u001b[0mtest_size\u001b[0m\u001b[1;33m=\u001b[0m\u001b[1;36m0.2\u001b[0m\u001b[1;33m)\u001b[0m\u001b[1;33m\u001b[0m\u001b[0m\n\u001b[0;32m      2\u001b[0m \u001b[0mactivations\u001b[0m \u001b[1;33m=\u001b[0m \u001b[1;33m[\u001b[0m\u001b[1;34m'identity'\u001b[0m\u001b[1;33m,\u001b[0m \u001b[1;34m'logistic'\u001b[0m\u001b[1;33m,\u001b[0m \u001b[1;34m'tanh'\u001b[0m\u001b[1;33m,\u001b[0m \u001b[1;34m'relu'\u001b[0m\u001b[1;33m]\u001b[0m\u001b[1;33m\u001b[0m\u001b[0m\n\u001b[1;32m----> 3\u001b[1;33m \u001b[0msize\u001b[0m \u001b[1;33m=\u001b[0m \u001b[0mactivations\u001b[0m\u001b[1;33m.\u001b[0m\u001b[0msize\u001b[0m\u001b[1;33m\u001b[0m\u001b[0m\n\u001b[0m\u001b[0;32m      4\u001b[0m \u001b[0mtemps_execs\u001b[0m \u001b[1;33m=\u001b[0m \u001b[0mnp\u001b[0m\u001b[1;33m.\u001b[0m\u001b[0mzeros\u001b[0m\u001b[1;33m(\u001b[0m\u001b[0msize\u001b[0m\u001b[1;33m)\u001b[0m\u001b[1;33m\u001b[0m\u001b[0m\n\u001b[0;32m      5\u001b[0m \u001b[0mprecisions\u001b[0m \u001b[1;33m=\u001b[0m \u001b[0mnp\u001b[0m\u001b[1;33m.\u001b[0m\u001b[0mzeros\u001b[0m\u001b[1;33m(\u001b[0m\u001b[0msize\u001b[0m\u001b[1;33m)\u001b[0m\u001b[1;33m\u001b[0m\u001b[0m\n",
      "\u001b[1;31mAttributeError\u001b[0m: 'list' object has no attribute 'size'"
     ]
    }
   ],
   "source": [
    "couche_optimal = 2\n",
    "size_optimal = 50\n",
    "hidden_layer_optimal = (couche_optimal)*(couche_optimal)\n",
    "solver_optimal = ...\n",
    "\n",
    "activations = ['identity', 'logistic', 'tanh', 'relu']\n",
    "size = activations.size\n",
    "temps_execs = np.zeros(size)\n",
    "precisions = np.zeros(size)\n",
    "\n",
    "# split donnée\n",
    "x_train, x_test, y_train, y_test = model_selection.train_test_split(data, target, train_size=0.8, test_size=0.2)\n",
    "\n",
    "for i in range(size):\n",
    "    \n",
    "    \n",
    "    MLP_model = MLPClassifier(hidden_layer_sizes = hidden_layer_optimal, solver=solver_optimal, activation = activations[i])\n",
    "    t_before = time()\n",
    "    MLP_model.fit(x_train, y_train)\n",
    "    \n",
    "    t_after = time()\n",
    "    y_predict = MLP_model.predict(x_test)\n",
    "    \n",
    "    temps_execs[i] = t_after - t_before\n",
    "    precisions[i] = precision_score(y_test, y_predict, average='micro')\n",
    "    error_rate[i] = 1 - accuracy_score(y_test, y_predict)\n",
    "    print('.', end='')\n",
    "    \n",
    "\n",
    "print(\"Meilleur activateur pour la précision : \", activations[ np.argmin(precisions) ])\n",
    "print(\"Meilleur activateur pour le temps d'entraînement : \", activations[ np.argmin(temps_execs) ])"
   ]
  },
  {
   "cell_type": "code",
   "execution_count": null,
   "metadata": {},
   "outputs": [],
   "source": [
    "plt.subplot(3, 1, 1)\n",
    "plt.bar(activations , precisions, color='#355C7D')\n",
    "plt.ylim(0,1.2)\n",
    "for i in range(size):\n",
    "    plt.text(i, precisions[i], \"%.2f\"%precisions[i], fontweight='bold', color='#F67280', ha='center', va='bottom')\n",
    "plt.set_title('Précision')\n",
    "    \n",
    "plt.subplot(3, 1, 2)\n",
    "plt.bar(activations , temps_exec, color='#83AF9B')\n",
    "plt.ylim(0, max(temps_execs) + min(temps_execs))\n",
    "for i in range(size):\n",
    "    plt.text(i, temps_exec[i], \"%.2f\"%temps_exec[i], fontweight='bold', color='#F67280', ha='center', va='bottom')\n",
    "plt.set_title('Temps d\\'entraînement')\n",
    "\n",
    "plt.subplot(3, 1, 3)\n",
    "plt.bar(activations , error_rate, color='#83AF9B')\n",
    "for i in range(size):\n",
    "    plt.text(i, error_rate[i], \"%.2f\"%error_rate[i], fontweight='bold', color='#F67280', ha='center', va='bottom')\n",
    "plt.set_title('T\\'aux d\\'erreur')\n",
    "\n",
    "plt.xlabel(\"Nombre de couche\")\n",
    "plt.show() \n",
    "\n",
    "print(\"Meilleur nombre de couche pour la précision : \", solvers[ np.argmin(precisions) ])\n",
    "print(\"Meilleur nombre de couche pour le temps d'entraînement : \", solvers[ np.argmin(temps_execs) ])"
   ]
  },
  {
   "cell_type": "markdown",
   "metadata": {},
   "source": [
    "### La régularisation L2 (paramètre α)"
   ]
  },
  {
   "cell_type": "code",
   "execution_count": null,
   "metadata": {},
   "outputs": [],
   "source": [
    "couche_optimal = 2\n",
    "size_optimal = 50\n",
    "hidden_layer_optimal = (couche_optimal)*(couche_optimal)\n",
    "solver_optimal = ...\n",
    "activateur_optimal = ...\n",
    "\n",
    "x_train, x_test, y_train, y_test = model_selection.train_test_split(data, target, train_size=0.8, test_size=0.2)\n",
    "alphas      = np.logspace(-10, 15, 30)\n",
    "size = alphas\n",
    "temps_execs = np.zeros(size)\n",
    "precisions  = np.zeros(size)\n",
    "error_rate  = np.zeros(size)\n",
    "\n",
    "# split donnée\n",
    "x_train, x_test, y_train, y_test = model_selection.train_test_split(data, target, train_size=0.8, test_size=0.2)\n",
    "\n",
    "for i in range(size):\n",
    "    t_before = time()\n",
    "    \n",
    "    MLP_model = MLPClassifier(hidden_layer_sizes = (50,50,50), solver = 'adam', activation = 'identity', alpha = alphas[i])\n",
    "    MLP_model.fit(x_train, y_train)\n",
    "    \n",
    "    t_after = time()\n",
    "    temps_execs[i] = t_after - t_before\n",
    "    y_predict = MLP_model.predict(x_test)\n",
    "    \n",
    "    precisions[i] = precision_score(y_test, y_predict, average='micro')\n",
    "    error_rate[i] = 1 - accuracy_score(y_test, y_predict)\n",
    "    \n",
    "    print(alphas[i], '\\t|', temps_execs[i], '\\t|', precisions[i])"
   ]
  },
  {
   "cell_type": "code",
   "execution_count": null,
   "metadata": {},
   "outputs": [],
   "source": [
    "plt.subplot(3, 1, 1)\n",
    "plt.bar(activations , precisions, color='#355C7D')\n",
    "plt.ylim(0,1.2)\n",
    "for i in range(size):\n",
    "    plt.text(i, precisions[i], \"%.2f\"%precisions[i], fontweight='bold', color='#F67280', ha='center', va='bottom')\n",
    "plt.set_title('Précision')\n",
    "    \n",
    "plt.subplot(3, 1, 2)\n",
    "plt.bar(activations , temps_exec, color='#83AF9B')\n",
    "plt.ylim(0, max(temps_execs) + min(temps_execs))\n",
    "for i in range(size):\n",
    "    plt.text(i, temps_exec[i], \"%.2f\"%temps_exec[i], fontweight='bold', color='#F67280', ha='center', va='bottom')\n",
    "plt.set_title('Temps d\\'entraînement')\n",
    "\n",
    "plt.subplot(3, 1, 3)\n",
    "plt.bar(activations , error_rate, color='#83AF9B')\n",
    "for i in range(size):\n",
    "    plt.text(i, error_rate[i], \"%.2f\"%error_rate[i], fontweight='bold', color='#F67280', ha='center', va='bottom')\n",
    "plt.set_title('T\\'aux d\\'erreur')\n",
    "\n",
    "plt.xlabel(\"Nombre de couche\")\n",
    "plt.show() \n",
    "\n",
    "print(\"Meilleur nombre de couche pour la précision : \", solvers[ np.argmin(precisions) ])\n",
    "print(\"Meilleur nombre de couche pour le temps d'entraînement : \", solvers[ np.argmin(temps_execs) ])"
   ]
  },
  {
   "cell_type": "markdown",
   "metadata": {},
   "source": [
    "## Modèle le plus otimisé"
   ]
  },
  {
   "cell_type": "markdown",
   "metadata": {},
   "source": [
    "Pour le problème de MNIST, les paramètre pour obtenir un compromise entre temps de calcul et précision sont:\n",
    "- Nombre de couche: 2 - 4\n",
    "- \n",
    "Un modèle favorise un seul axe est très facile à décider: pour favoriser le temps de calcul on met en place le moindre des paramètres, pour favoriser la précision, on tente à mettre un grande nombre de couche et toutes en grande taille.\n",
    "Mais ces choix ne sont pas pratiques."
   ]
  },
  {
   "cell_type": "markdown",
   "metadata": {},
   "source": [
    "## Conclusion"
   ]
  },
  {
   "cell_type": "markdown",
   "metadata": {},
   "source": [
    "**ANN** a ses avantages et ses inconvénients:\n",
    "### Avantages: \n",
    "\n",
    "- Cette méthode permets de modéliser n'importe quelle problème (en théorie, si on dispose les ressources à l'infinie, les données à l'infinie et capacité calcul à l'infinie).\n",
    "- Elle permets également d'obtenir un résultat plus précis par rapport aux autres méthodes.\n",
    "- On peut passer à l'échelle cette méthode. Les neuronne dans réseau accepte le calcul indépendant, donc favorisé pour déployer au système distribué.\n",
    "    \n",
    "### Inconvénients:\n",
    "\n",
    "- **ANN** demande un capacité de calcul très coûteux, parfois moins efficaces par rapport à 2 autres méthodes. (Pour le même niveau de précision, ANN a besoin plus de temps pour l'apprentissage)\n",
    "- Le choix des paramètres de **ANN** n'est pas évident, on ne peut pas non plus faire un test exhautive faute de son calcul gourmand.\n",
    "- Pour l'apprentissage en temps réel ou en adaptation au changement du comportement, cette méthode n'est pas un choix idéal, vu impossible. C'est dû à la conception d'algorithmique: dans la phase d'apprentissage chaque couche doit attendre le résultat de celle précédente. Et ensuite dans l'étape de backpropagation, il faut calcul à chaque couche. Donc même avec les calculs distribués, on ne bénéfice pas grandement le parallélisme afin de booster le temps de calcul."
   ]
  }
 ],
 "metadata": {
  "kernelspec": {
   "display_name": "Python 3",
   "language": "python",
   "name": "python3"
  },
  "language_info": {
   "codemirror_mode": {
    "name": "ipython",
    "version": 3
   },
   "file_extension": ".py",
   "mimetype": "text/x-python",
   "name": "python",
   "nbconvert_exporter": "python",
   "pygments_lexer": "ipython3",
   "version": "3.6.6"
  }
 },
 "nbformat": 4,
 "nbformat_minor": 2
}
