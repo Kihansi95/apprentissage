{
 "cells": [
  {
   "cell_type": "markdown",
   "metadata": {},
   "source": [
    "# Rapport du TP2"
   ]
  },
  {
   "cell_type": "markdown",
   "metadata": {},
   "source": [
    "Importation des dépendances liées aux TP:"
   ]
  },
  {
   "cell_type": "code",
   "execution_count": 10,
   "metadata": {},
   "outputs": [],
   "source": [
    "from sklearn import datasets, model_selection\n",
    "from sklearn.metrics import precision_score\n",
    "import numpy as np\n",
    "from sklearn.neural_network import MLPClassifier\n",
    "import matplotlib.pyplot as plt\n",
    "from time import time"
   ]
  },
  {
   "cell_type": "markdown",
   "metadata": {},
   "source": [
    "- Charger le jeu de données MNIST"
   ]
  },
  {
   "cell_type": "code",
   "execution_count": 3,
   "metadata": {},
   "outputs": [],
   "source": [
    "mnist = datasets.fetch_mldata('MNIST original')"
   ]
  },
  {
   "cell_type": "markdown",
   "metadata": {},
   "source": [
    "- Diviser la base de données en 49000 lignes pour l’apprentissage (training) et le reste pour les tests"
   ]
  },
  {
   "cell_type": "code",
   "execution_count": 4,
   "metadata": {},
   "outputs": [],
   "source": [
    "index = np.random.randint(70000, size=49000)\n",
    "data = mnist.data[index]\n",
    "target = mnist.target[index]"
   ]
  },
  {
   "cell_type": "markdown",
   "metadata": {},
   "source": [
    "- Construire un modèle de classification ayant comme paramètre: `hidden_layer_sizes = (50)`, puis calculez la précession du classifieur "
   ]
  },
  {
   "cell_type": "code",
   "execution_count": 5,
   "metadata": {},
   "outputs": [
    {
     "name": "stdout",
     "output_type": "stream",
     "text": [
      "Préscession =  0.9592857142857143\n"
     ]
    }
   ],
   "source": [
    "# Construire modèle\n",
    "MLP_model = MLPClassifier(hidden_layer_sizes=(50))\n",
    "\n",
    "# Choisir données d'apprentissage et du test\n",
    "x_train, x_test, y_train, y_test = model_selection.train_test_split(data, target, train_size=0.8, test_size=0.2)\n",
    "\n",
    "# Apprendre et mesurer précesion\n",
    "MLP_model.fit(x_train, y_train)\n",
    "y_predict = MLP_model.predict(x_test)\n",
    "\n",
    "# Afficher score\n",
    "print(\"Préscession = \", MLP_model.score(x_test, y_test))"
   ]
  },
  {
   "cell_type": "markdown",
   "metadata": {},
   "source": [
    "- Afficher la classe de l’image 4 et sa classe prédite"
   ]
  },
  {
   "cell_type": "code",
   "execution_count": 6,
   "metadata": {},
   "outputs": [
    {
     "name": "stdout",
     "output_type": "stream",
     "text": [
      "Valeur prédite :  [5.]\n",
      "===========================================\n",
      "L'image: \n"
     ]
    },
    {
     "data": {
      "image/png": "[encoded data removed]",
      "text/plain": [
       "<Figure size 432x288 with 1 Axes>"
      ]
     },
     "metadata": {},
     "output_type": "display_data"
    }
   ],
   "source": [
    "print(\"Valeur prédite : \", MLP_model.predict(x_test[4].reshape(1,-1)))\n",
    "print(\"===========================================\")\n",
    "print(\"L'image: \")\n",
    "plt.imshow(x_test.reshape((-1, 28, 28))[4],cmap=plt.cm.gray_r,interpolation=\"nearest\")\n",
    "plt.show()"
   ]
  },
  {
   "cell_type": "markdown",
   "metadata": {},
   "source": [
    "- Calculez la précession en utilisant le package : `metrics.precision_score(ytest_pr, ypredTest_pr,average='micro')`"
   ]
  },
  {
   "cell_type": "code",
   "execution_count": 7,
   "metadata": {},
   "outputs": [
    {
     "name": "stdout",
     "output_type": "stream",
     "text": [
      "Precision =  0.9592857142857143\n"
     ]
    }
   ],
   "source": [
    "precision = precision_score(y_test, y_predict, average='micro')\n",
    "\n",
    "# Afficher score\n",
    "print(\"Precision = \", precision)"
   ]
  },
  {
   "cell_type": "markdown",
   "metadata": {},
   "source": [
    "- Varier le nombre de la couches de 1 entre (2 et 100) couches, et recalculer la précision du classifieur. "
   ]
  },
  {
   "cell_type": "code",
   "execution_count": 8,
   "metadata": {
    "scrolled": true
   },
   "outputs": [
    {
     "data": {
      "image/png": "[encoded data removed]",
      "text/plain": [
       "<Figure size 432x288 with 1 Axes>"
      ]
     },
     "metadata": {},
     "output_type": "display_data"
    }
   ],
   "source": [
    "max_l = 10\n",
    "min_l = 1\n",
    "precisions = np.zeros(max_l - min_l)\n",
    "hidden_layer = (50,)* (max_l-min_l)\n",
    "\n",
    "for n_layer in range (max_l - min_l):\n",
    "    \n",
    "    # split donnée\n",
    "    x_train, x_test, y_train, y_test = model_selection.train_test_split(data, target, train_size=0.8, test_size=0.2)\n",
    "    \n",
    "    # Init modèle\n",
    "    hidden_layer += (50,)\n",
    "    MLP_model = MLPClassifier(hidden_layer_sizes = hidden_layer[0:n_layer])\n",
    "    MLP_model.fit(x_train, y_train)\n",
    "    y_predict = MLP_model.predict(x_test)\n",
    "    \n",
    "    precisions[n_layer] = precision_score(y_test, y_predict, average='micro')\n",
    "        \n",
    "plt.plot(range(min_l,max_l), precisions)\n",
    "plt.show()"
   ]
  },
  {
   "cell_type": "markdown",
   "metadata": {},
   "source": [
    "- Construire cinq modèles de classification des données mnist, avec des réseaux qui ont respectivement de 1 à 10 couches cachées, et des tailles de \n",
    "couches entre 10 et 300 au choix d’une façon aléatoire. Quelles sont les performances en taux de bonne classification et en temps d’apprentissage \n",
    "obtenus pour chaque modèle ? Utilisez la fonction `time()` du package time pour mesurer le temps d’apprentissage d’un modèle.   "
   ]
  },
  {
   "cell_type": "code",
   "execution_count": 15,
   "metadata": {},
   "outputs": [
    {
     "data": {
      "image/png": "[encoded data removed]",
      "text/plain": [
       "<Figure size 432x288 with 2 Axes>"
      ]
     },
     "metadata": {},
     "output_type": "display_data"
    }
   ],
   "source": [
    "# nb_hidden_layer == nombre de couche pour le modèle courant\n",
    "temps_exec = np.zeros(5)\n",
    "precisions = np.zeros(5)\n",
    "for model in range(5):\n",
    "    \n",
    "    nb_hidden_layer = model * 2\n",
    "    t_before = time()\n",
    "    \n",
    "    # Générer la taille de couche aléatoirement\n",
    "    hidden_layer = np.random.randint(10, 300, size = nb_hidden_layer) \n",
    "    \n",
    "    # Transformer en tuple\n",
    "    hidden_layer = tuple(hidden_layer.reshape(1, -1)[0])          \n",
    "\n",
    "    # Apprentissage\n",
    "    MLP_model = MLPClassifier(hidden_layer_sizes = hidden_layer)\n",
    "    x_train, x_test, y_train, y_test = model_selection.train_test_split(data, target, train_size=0.8, test_size=0.2)\n",
    "    MLP_model.fit(x_train, y_train)\n",
    "    \n",
    "    # Calcul le temps d'exec\n",
    "    t_after = time()\n",
    "    temps_exec[model] = t_after - t_before\n",
    "        \n",
    "    # Calcul précision\n",
    "    y_predict = MLP_model.predict(x_test)\n",
    "    precisions[model] = precision_score(y_test, y_predict, average='micro')\n",
    "    \n",
    "\n",
    "plt.subplot(2, 1, 1)\n",
    "plt.plot(range(5), precisions, 'r')\n",
    "\n",
    "plt.subplot(2, 1, 2)\n",
    "plt.plot(range(5), temps_exec, 'b')\n",
    "plt.show()   "
   ]
  },
  {
   "cell_type": "markdown",
   "metadata": {},
   "source": [
    "- Etudier la convergence des algorithmes d’optimisation disponibles : **L-BFGS**, **SGD** et **Adam**. "
   ]
  },
  {
   "cell_type": "code",
   "execution_count": 17,
   "metadata": {},
   "outputs": [
    {
     "name": "stdout",
     "output_type": "stream",
     "text": [
      "lbfgs\n",
      "sgd\n",
      "adam\n"
     ]
    }
   ],
   "source": [
    "x_train, x_test, y_train, y_test = model_selection.train_test_split(data, target, train_size=0.8, test_size=0.2)\n",
    "for solver in ['lbfgs', 'sgd', 'adam']:\n",
    "    \n",
    "    t_before = time()\n",
    "    \n",
    "    MLP_model = MLPClassifier(solver = sovler)\n",
    "    MLP_model.fit(x_train, y_train)"
   ]
  }
 ],
 "metadata": {
  "kernelspec": {
   "display_name": "Python 3",
   "language": "python",
   "name": "python3"
  },
  "language_info": {
   "codemirror_mode": {
    "name": "ipython",
    "version": 3
   },
   "file_extension": ".py",
   "mimetype": "text/x-python",
   "name": "python",
   "nbconvert_exporter": "python",
   "pygments_lexer": "ipython3",
   "version": "3.6.5"
  }
 },
 "nbformat": 4,
 "nbformat_minor": 2
}
