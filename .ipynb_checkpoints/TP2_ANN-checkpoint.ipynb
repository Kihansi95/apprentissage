{
 "cells": [
  {
   "cell_type": "markdown",
   "metadata": {},
   "source": [
    "# Rapport du TP2"
   ]
  },
  {
   "cell_type": "markdown",
   "metadata": {},
   "source": [
    "Importation des dépendances liées aux TP:"
   ]
  },
  {
   "cell_type": "code",
   "execution_count": 1,
   "metadata": {},
   "outputs": [],
   "source": [
    "from sklearn import datasets, model_selection\n",
    "from sklearn.metrics import precision_score\n",
    "import numpy as np\n",
    "from sklearn.neural_network import MLPClassifier\n",
    "import matplotlib.pyplot as plt\n",
    "from time import time"
   ]
  },
  {
   "cell_type": "markdown",
   "metadata": {},
   "source": [
    "- Charger le jeu de données MNIST"
   ]
  },
  {
   "cell_type": "code",
   "execution_count": 2,
   "metadata": {},
   "outputs": [],
   "source": [
    "mnist = datasets.fetch_mldata('MNIST original')"
   ]
  },
  {
   "cell_type": "markdown",
   "metadata": {},
   "source": [
    "- Diviser la base de données en 49000 lignes pour l’apprentissage (training) et le reste pour les tests"
   ]
  },
  {
   "cell_type": "code",
   "execution_count": 3,
   "metadata": {},
   "outputs": [],
   "source": [
    "index = np.random.randint(70000, size=49000)\n",
    "data = mnist.data[index]\n",
    "target = mnist.target[index]"
   ]
  },
  {
   "cell_type": "markdown",
   "metadata": {},
   "source": [
    "- Construire un modèle de classification ayant comme paramètre: `hidden_layer_sizes = (50)`, puis calculez la précession du classifieur "
   ]
  },
  {
   "cell_type": "code",
   "execution_count": 4,
   "metadata": {},
   "outputs": [
    {
     "name": "stdout",
     "output_type": "stream",
     "text": [
      "Préscession =  0.9531632653061225\n"
     ]
    }
   ],
   "source": [
    "# Construire modèle\n",
    "MLP_model = MLPClassifier(hidden_layer_sizes=(50))\n",
    "\n",
    "# Choisir données d'apprentissage et du test\n",
    "x_train, x_test, y_train, y_test = model_selection.train_test_split(data, target, train_size=0.8, test_size=0.2)\n",
    "\n",
    "# Apprendre et mesurer précesion\n",
    "MLP_model.fit(x_train, y_train)\n",
    "y_predict = MLP_model.predict(x_test)\n",
    "\n",
    "# Afficher score\n",
    "print(\"Préscession = \", MLP_model.score(x_test, y_test))"
   ]
  },
  {
   "cell_type": "markdown",
   "metadata": {},
   "source": [
    "- Afficher la classe de l’image 4 et sa classe prédite"
   ]
  },
  {
   "cell_type": "code",
   "execution_count": 5,
   "metadata": {},
   "outputs": [
    {
     "name": "stdout",
     "output_type": "stream",
     "text": [
      "Valeur prédite :  [2.]\n",
      "===========================================\n",
      "L'image: \n"
     ]
    },
    {
     "data": {
      "image/png": "[encoded data removed]",
      "text/plain": [
       "<Figure size 432x288 with 1 Axes>"
      ]
     },
     "metadata": {},
     "output_type": "display_data"
    }
   ],
   "source": [
    "print(\"Valeur prédite : \", MLP_model.predict(x_test[4].reshape(1,-1)))\n",
    "print(\"===========================================\")\n",
    "print(\"L'image: \")\n",
    "plt.imshow(x_test.reshape((-1, 28, 28))[4],cmap=plt.cm.gray_r,interpolation=\"nearest\")\n",
    "plt.show()"
   ]
  },
  {
   "cell_type": "markdown",
   "metadata": {},
   "source": [
    "- Calculez la précession en utilisant le package : `metrics.precision_score(ytest_pr, ypredTest_pr,average='micro')`"
   ]
  },
  {
   "cell_type": "code",
   "execution_count": 6,
   "metadata": {},
   "outputs": [
    {
     "name": "stdout",
     "output_type": "stream",
     "text": [
      "Precision =  0.9531632653061225\n"
     ]
    }
   ],
   "source": [
    "precision = precision_score(y_test, y_predict, average='micro')\n",
    "\n",
    "# Afficher score\n",
    "print(\"Precision = \", precision)"
   ]
  },
  {
   "cell_type": "markdown",
   "metadata": {},
   "source": [
    "- Varier le nombre de la couches de 1 entre (2 et 100) couches, et recalculer la précision du classifieur. "
   ]
  },
  {
   "cell_type": "code",
   "execution_count": 45,
   "metadata": {
    "scrolled": true
   },
   "outputs": [],
   "source": [
    "max_l = 10\n",
    "min_l = 1\n",
    "precisions = np.zeros(max_l - min_l)\n",
    "hidden_layer = (50,)* (max_l-min_l)\n",
    "\n",
    "for n_layer in range (max_l - min_l):\n",
    "    \n",
    "    # split donnée\n",
    "    x_train, x_test, y_train, y_test = model_selection.train_test_split(data, target, train_size=0.8, test_size=0.2)\n",
    "    \n",
    "    # Init modèle\n",
    "    hidden_layer += (50,)\n",
    "    MLP_model = MLPClassifier(hidden_layer_sizes = hidden_layer[0:n_layer])\n",
    "    MLP_model.fit(x_train, y_train)\n",
    "    y_predict = MLP_model.predict(x_test)\n",
    "    \n",
    "    precisions[n_layer] = precision_score(y_test, y_predict, average='micro')"
   ]
  },
  {
   "cell_type": "code",
   "execution_count": 46,
   "metadata": {},
   "outputs": [
    {
     "data": {
      "image/png": "[encoded data removed]",
      "text/plain": [
       "<Figure size 432x288 with 1 Axes>"
      ]
     },
     "metadata": {},
     "output_type": "display_data"
    }
   ],
   "source": [
    "plt.bar(range(min_l, max_l), precisions, color='#355C7D')\n",
    "plt.ylim(0,1.2)\n",
    "for i in range(max_l - min_l):\n",
    "    plt.text(i+1, precisions[i], \"%.2f\" % precisions[i], fontweight='bold', color='#F67280', ha='center', va='bottom')\n",
    "    \n",
    "plt.xlabel(\"Nombre de couches\")\n",
    "plt.ylabel(\"Précision\")\n",
    "plt.show()"
   ]
  },
  {
   "cell_type": "markdown",
   "metadata": {},
   "source": [
    "- Construire cinq modèles de classification des données mnist, avec des réseaux qui ont respectivement de 1 à 10 couches cachées, et des tailles de \n",
    "couches entre 10 et 300 au choix d’une façon aléatoire. Quelles sont les performances en taux de bonne classification et en temps d’apprentissage \n",
    "obtenus pour chaque modèle ? Utilisez la fonction `time()` du package time pour mesurer le temps d’apprentissage d’un modèle.   "
   ]
  },
  {
   "cell_type": "code",
   "execution_count": 32,
   "metadata": {},
   "outputs": [],
   "source": [
    "# nb_hidden_layer == nombre de couche pour le modèle courant\n",
    "temps_exec = np.zeros(5)\n",
    "precisions = np.zeros(5)\n",
    "for model in range(5):\n",
    "    \n",
    "    nb_hidden_layer = model * 2\n",
    "    t_before = time()\n",
    "    \n",
    "    # Générer la taille de couche aléatoirement\n",
    "    hidden_layer = np.random.randint(10, 300, size = nb_hidden_layer) \n",
    "    \n",
    "    # Transformer en tuple\n",
    "    hidden_layer = tuple(hidden_layer.reshape(1, -1)[0])          \n",
    "\n",
    "    # Apprentissage\n",
    "    MLP_model = MLPClassifier(hidden_layer_sizes = hidden_layer)\n",
    "    x_train, x_test, y_train, y_test = model_selection.train_test_split(data, target, train_size=0.8, test_size=0.2)\n",
    "    MLP_model.fit(x_train, y_train)\n",
    "    \n",
    "    # Calcul le temps d'exec\n",
    "    t_after = time()\n",
    "    temps_exec[model] = t_after - t_before\n",
    "        \n",
    "    # Calcul précision\n",
    "    y_predict = MLP_model.predict(x_test)\n",
    "    precisions[model] = precision_score(y_test, y_predict, average='micro')"
   ]
  },
  {
   "cell_type": "code",
   "execution_count": 41,
   "metadata": {},
   "outputs": [
    {
     "data": {
      "image/png": "[encoded data removed]",
      "text/plain": [
       "<Figure size 432x288 with 2 Axes>"
      ]
     },
     "metadata": {},
     "output_type": "display_data"
    }
   ],
   "source": [
    "plt.subplot(2, 1, 1)\n",
    "plt.bar(range(5), precisions, color='#355C7D')\n",
    "plt.ylim(0,1.2)\n",
    "for i in range(5):\n",
    "    plt.text(i, precisions[i], \"%.2f\"%precisions[i], fontweight='bold', color='#F67280', ha='center', va='bottom')\n",
    "\n",
    "plt.subplot(2, 1, 2)\n",
    "plt.bar(range(5), temps_exec, color='#83AF9B')\n",
    "plt.ylim(0, 70)\n",
    "for i in range(5):\n",
    "    plt.text(i, temps_exec[i], \"%.2f\"%temps_exec[i], fontweight='bold', color='#F67280', ha='center', va='bottom')\n",
    "\n",
    "plt.xlabel(\"Nombre de couche\")\n",
    "plt.show() "
   ]
  },
  {
   "cell_type": "markdown",
   "metadata": {},
   "source": [
    "- Etudier la convergence des algorithmes d’optimisation disponibles : **L-BFGS**, **SGD** et **Adam**. "
   ]
  },
  {
   "cell_type": "code",
   "execution_count": 32,
   "metadata": {},
   "outputs": [
    {
     "name": "stdout",
     "output_type": "stream",
     "text": [
      "lbfgs \t| 53.25824546813965 \t| 0.9241836734693878\n",
      "sgd \t| 33.434988498687744 \t| 0.946734693877551\n",
      "adam \t| 9.330799579620361 \t| 0.9611224489795919\n",
      "Meilleur solver :  adam\n"
     ]
    }
   ],
   "source": [
    "x_train, x_test, y_train, y_test = model_selection.train_test_split(data, target, train_size=0.8, test_size=0.2)\n",
    "solvers = ['lbfgs', 'sgd', 'adam']\n",
    "temps_execs = np.zeros(3)\n",
    "precisions = np.zeros(3)\n",
    "\n",
    "for i in range(3):\n",
    "    \n",
    "    t_before = time()\n",
    "    \n",
    "    MLP_model = MLPClassifier(hidden_layer_sizes = (50,50,50) ,solver = solvers[i])\n",
    "    MLP_model.fit(x_train, y_train)\n",
    "    \n",
    "    t_after = time()\n",
    "    temps_execs[i] = t_after - t_before\n",
    "    y_predict = MLP_model.predict(x_test)\n",
    "    precisions[i] = precision_score(y_test, y_predict, average='micro')\n",
    "    \n",
    "    print(solvers[i], '\\t|', temps_execs[i], '\\t|', precisions[i])\n",
    "    \n",
    "print(\"Meilleur solver : \", solvers[ np.argmin(temps_execs) ])"
   ]
  },
  {
   "cell_type": "markdown",
   "metadata": {},
   "source": [
    "- Varier les fonctions d’activation **{‘identity’, ‘logistic’, ‘tanh’, ‘relu’}**"
   ]
  },
  {
   "cell_type": "code",
   "execution_count": 63,
   "metadata": {},
   "outputs": [
    {
     "name": "stdout",
     "output_type": "stream",
     "text": [
      "identity \t| 21.195919513702393 \t| 0.9031632653061225\n",
      "logistic \t| 26.84736680984497 \t| 0.9210204081632654\n",
      "tanh \t| 17.061084747314453 \t| 0.9166326530612245\n",
      "Meilleur activateur :  tanh\n"
     ]
    }
   ],
   "source": [
    "x_train, x_test, y_train, y_test = model_selection.train_test_split(data, target, train_size=0.8, test_size=0.2)\n",
    "activations = ['identity', 'logistic', 'tanh', 'relu']\n",
    "temps_execs = np.zeros(3)\n",
    "precisions = np.zeros(3)\n",
    "\n",
    "for i in range(3):\n",
    "    t_before = time()\n",
    "    \n",
    "    MLP_model = MLPClassifier(hidden_layer_sizes = (50,50,50), solver='adam', activation = activations[i])\n",
    "    MLP_model.fit(x_train, y_train)\n",
    "    \n",
    "    t_after = time()\n",
    "    temps_execs[i] = t_after - t_before\n",
    "    y_predict = MLP_model.predict(x_test)\n",
    "    precisions[i] = precision_score(y_test, y_predict, average='micro')\n",
    "    \n",
    "    print(activations[i], '\\t|', temps_execs[i], '\\t|', precisions[i])\n",
    "\n",
    "print(\"Meilleur activateur : \", activations[ np.argmin(temps_execs) ])"
   ]
  },
  {
   "cell_type": "markdown",
   "metadata": {},
   "source": [
    "- Changer la valeur de la régularisation L2 (paramètre α)"
   ]
  },
  {
   "cell_type": "code",
   "execution_count": 64,
   "metadata": {},
   "outputs": [
    {
     "name": "stdout",
     "output_type": "stream",
     "text": [
      "alpha \t| temps exec \t\t| precision\n",
      "0.0 \t| 20.45101022720337 \t| 0.8985714285714286\n",
      "0.001 \t| 22.399107694625854 \t| 0.9055102040816326\n",
      "0.002 \t| 23.749807834625244 \t| 0.9016326530612245\n",
      "0.008 \t| 12.956231832504272 \t| 0.9023469387755102\n",
      "0.01 \t| 30.910038948059082 \t| 0.9110204081632653\n",
      "0.02 \t| 21.296712398529053 \t| 0.9075510204081633\n",
      "0.08 \t| 16.708970308303833 \t| 0.8857142857142857\n",
      "0.1 \t| 24.114727020263672 \t| 0.8965306122448979\n",
      "0.2 \t| 20.27128291130066 \t| 0.9032653061224489\n",
      "0.8 \t| 66.98373746871948 \t| 0.911530612244898\n",
      "1.0 \t| 58.016825675964355 \t| 0.9171428571428571\n",
      "2.0 \t| 67.48366951942444 \t| 0.9178571428571428\n",
      "8.0 \t| 30.72701358795166 \t| 0.9127551020408163\n",
      "10.0 \t| 44.28822612762451 \t| 0.915\n",
      "Meilleur alpha :  0.008\n"
     ]
    }
   ],
   "source": [
    "x_train, x_test, y_train, y_test = model_selection.train_test_split(data, target, train_size=0.8, test_size=0.2)\n",
    "alphas = np.logspace(-10, 15, 30)\n",
    "temps_execs = np.zeros(alphas.size)\n",
    "precisions = np.zeros(alphas.size)\n",
    "print(\"alpha \\t| temps exec \\t\\t| precision\")\n",
    "\n",
    "for i in range(alphas.size):\n",
    "    t_before = time()\n",
    "    \n",
    "    MLP_model = MLPClassifier(hidden_layer_sizes = (50,50,50), solver = 'adam', activation = 'identity', alpha = alphas[i])\n",
    "    MLP_model.fit(x_train, y_train)\n",
    "    \n",
    "    t_after = time()\n",
    "    temps_execs[i] = t_after - t_before\n",
    "    y_predict = MLP_model.predict(x_test)\n",
    "    precisions[i] = precision_score(y_test, y_predict, average='micro')\n",
    "    \n",
    "    print(alphas[i], '\\t|', temps_execs[i], '\\t|', precisions[i])\n",
    "\n",
    "print(\"Meilleur alpha : \", alphas[ np.argmin(temps_execs) ])"
   ]
  },
  {
   "cell_type": "code",
   "execution_count": 65,
   "metadata": {},
   "outputs": [
    {
     "data": {
      "image/png": "[encoded data removed]",
      "text/plain": [
       "<Figure size 432x288 with 2 Axes>"
      ]
     },
     "metadata": {},
     "output_type": "display_data"
    }
   ],
   "source": [
    "plt.subplot(2, 1, 1)\n",
    "plt.plot(alphas, precisions, color='#355C7D')\n",
    "plt.ylabel(\"Precision\")\n",
    "\n",
    "plt.subplot(2, 1, 2)\n",
    "plt.plot(alphas, temps_execs, color='#83AF9B')\n",
    "plt.ylabel(\"Temps d'exécution\")\n",
    "\n",
    "plt.show() "
   ]
  },
  {
   "cell_type": "markdown",
   "metadata": {},
   "source": [
    "- Choisissez le modèle qui propose de meilleurs résultats"
   ]
  },
  {
   "cell_type": "code",
   "execution_count": null,
   "metadata": {},
   "outputs": [],
   "source": []
  },
  {
   "cell_type": "markdown",
   "metadata": {},
   "source": [
    "- Sur chacun des cas précédents, tracez les différentes courbes d'erreurs."
   ]
  },
  {
   "cell_type": "code",
   "execution_count": null,
   "metadata": {},
   "outputs": [],
   "source": []
  },
  {
   "cell_type": "markdown",
   "metadata": {},
   "source": [
    "- A votre avis, quels sont les avantages et les inconvénients des A-nn : optimalité ? temps de calcul ? passage à l'échelle ? "
   ]
  },
  {
   "cell_type": "markdown",
   "metadata": {},
   "source": [
    "**Ans**: \n",
    "- **ANN** permets d'avoir une mieux précision par rapport à d'autre méthode. Cependant c'est coûteux en temps et en ressource pour l'apprentissage.\n",
    "- Le passage à l'échelle de **ANN** est possible, cette méthode permets effectivement l'apprentissage en batch. Elle permets également à s'adapter au changement de comportement du sujet observé."
   ]
  }
 ],
 "metadata": {
  "kernelspec": {
   "display_name": "Python 3",
   "language": "python",
   "name": "python3"
  },
  "language_info": {
   "codemirror_mode": {
    "name": "ipython",
    "version": 3
   },
   "file_extension": ".py",
   "mimetype": "text/x-python",
   "name": "python",
   "nbconvert_exporter": "python",
   "pygments_lexer": "ipython3",
   "version": "3.6.5"
  }
 },
 "nbformat": 4,
 "nbformat_minor": 2
}
