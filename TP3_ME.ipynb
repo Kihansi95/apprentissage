{
 "cells": [
  {
   "cell_type": "code",
   "execution_count": 15,
   "metadata": {},
   "outputs": [
    {
     "name": "stderr",
     "output_type": "stream",
     "text": [
      "C:\\Users\\moham\\Anaconda3\\lib\\site-packages\\sklearn\\model_selection\\_split.py:2026: FutureWarning: From version 0.21, test_size will always complement train_size unless both are specified.\n",
      "  FutureWarning)\n"
     ]
    }
   ],
   "source": [
    "from sklearn import datasets\n",
    "import matplotlib.pyplot as plt \n",
    "from sklearn import datasets\n",
    "from sklearn.svm import SVC\n",
    "from sklearn import model_selection\n",
    "import numpy as np\n",
    "from sklearn import metrics\n",
    "\n",
    "mnist = datasets.fetch_mldata('MNIST original')\n",
    "\n",
    "data = np.random.randint(70000,size=5000)\n",
    "xtrain,xtest,ytrain,ytest = model_selection.train_test_split(mnist.data[data],mnist.target[data],train_size=0.7)"
   ]
  },
  {
   "cell_type": "code",
   "execution_count": 18,
   "metadata": {},
   "outputs": [
    {
     "name": "stdout",
     "output_type": "stream",
     "text": [
      "Score avec  linear : 0.9133333333333333\n",
      "Score avec  poly : 0.9453333333333334\n",
      "Score avec  rbf : 0.17\n",
      "Score avec  sigmoid : 0.114\n",
      "Score avec sigmoid : 0.10866666666666666\n"
     ]
    }
   ],
   "source": [
    "scores = []\n",
    "\n",
    "for n in ['linear','poly','rbf','sigmoid']:\n",
    "    model = SVC(kernel=n)\n",
    "\n",
    "    model.fit(xtrain,ytrain)\n",
    "    \n",
    "    score = model.score(xtest,ytest)\n",
    "    \n",
    "    scores.append(score)\n",
    "    \n",
    "    print(\"Score avec \",n,\":\",score)\n",
    "    \n",
    "model = SVC(kernel='precomputed')\n",
    "\n",
    "kernel_train = np.dot(xtrain, xtrain.T) \n",
    "\n",
    "model.fit(kernel_train, ytrain)\n",
    "\n",
    "kernel_test = np.dot(xtest, xtrain.T) \n",
    "\n",
    "score = model.score(kernel_test,ytest)\n",
    "\n",
    "scores.append(score)\n",
    "\n",
    "print(\"Score avec\",n,\":\",score)"
   ]
  },
  {
   "cell_type": "code",
   "execution_count": 21,
   "metadata": {},
   "outputs": [
    {
     "data": {
      "image/png": "[encoded data removed]",
      "text/plain": [
       "<Figure size 432x288 with 1 Axes>"
      ]
     },
     "metadata": {
      "needs_background": "light"
     },
     "output_type": "display_data"
    }
   ],
   "source": [
    "plt.bar(['linear','poly','rbf','sigmoid','precomputed'],scores)\n",
    "plt.xlabel('Type de kernel')\n",
    "plt.ylabel('Score')\n",
    "plt.ylim(0, 1.0)\n",
    "plt.show()"
   ]
  },
  {
   "cell_type": "code",
   "execution_count": 13,
   "metadata": {},
   "outputs": [
    {
     "name": "stdout",
     "output_type": "stream",
     "text": [
      "Erreur avec 0.1 : 0.05733333333333335\n",
      "Erreur avec 0.6 : 0.05733333333333335\n",
      "Erreur avec 1.1 : 0.05733333333333335\n",
      "Erreur avec 1.6 : 0.05733333333333335\n",
      "Erreur avec 2.1 : 0.05733333333333335\n",
      "Erreur avec 2.6 : 0.05733333333333335\n",
      "Erreur avec 3.1 : 0.05733333333333335\n",
      "Erreur avec 3.6 : 0.05733333333333335\n",
      "Erreur avec 4.1 : 0.05733333333333335\n"
     ]
    }
   ],
   "source": [
    "errorsC = []\n",
    "\n",
    "for n in np.arange(0.1, 4.5, 0.5):\n",
    "    model = SVC(C=n,kernel='poly')\n",
    "\n",
    "    model.fit(xtrain,ytrain)\n",
    "    \n",
    "    ypredTest = model.predict(xtest)\n",
    "    \n",
    "    error = metrics.zero_one_loss(ytest, ypredTest)\n",
    "    \n",
    "    errorsC.append(error)\n",
    "    \n",
    "    print(\"Erreur avec c=\",n,\":\",error)"
   ]
  },
  {
   "cell_type": "code",
   "execution_count": 20,
   "metadata": {},
   "outputs": [
    {
     "data": {
      "image/png": "[encoded data removed]",
      "text/plain": [
       "<Figure size 432x288 with 1 Axes>"
      ]
     },
     "metadata": {
      "needs_background": "light"
     },
     "output_type": "display_data"
    }
   ],
   "source": [
    "plt.plot(np.arange(0.1, 4.5, 0.5),errorsC)\n",
    "plt.xlabel('Penalty parameter')\n",
    "plt.ylabel('Erreur')\n",
    "plt.ylim(0, 0.2)\n",
    "plt.show()"
   ]
  },
  {
   "cell_type": "code",
   "execution_count": 23,
   "metadata": {
    "scrolled": false
   },
   "outputs": [
    {
     "name": "stdout",
     "output_type": "stream",
     "text": [
      "Score avec gamma= 0.1 : 0.9453333333333334\n",
      "Score avec gamma= 2.6 : 0.9453333333333334\n",
      "Score avec gamma= 5.1 : 0.9453333333333334\n",
      "Score avec gamma= 7.6 : 0.9453333333333334\n",
      "Score avec gamma= 10.1 : 0.9453333333333334\n"
     ]
    }
   ],
   "source": [
    "scoresGama = []\n",
    "\n",
    "for n in np.arange(0.1, 12.5, 2.5):\n",
    "    model = SVC(gamma=n,kernel='poly')\n",
    "\n",
    "    model.fit(xtrain,ytrain)\n",
    "    \n",
    "    score = model.score(xtest,ytest)\n",
    "    \n",
    "    scoresGama.append(score)\n",
    "    \n",
    "    print(\"Score avec gamma=\",n,\":\",score)"
   ]
  },
  {
   "cell_type": "code",
   "execution_count": 26,
   "metadata": {
    "scrolled": true
   },
   "outputs": [
    {
     "data": {
      "image/png": "[encoded data removed]",
      "text/plain": [
       "<Figure size 432x288 with 1 Axes>"
      ]
     },
     "metadata": {
      "needs_background": "light"
     },
     "output_type": "display_data"
    }
   ],
   "source": [
    "plt.plot(np.arange(0.1, 12.5, 2.5),scoresGama)\n",
    "plt.xlabel('Kernel coefficient')\n",
    "plt.ylabel('Erreur')\n",
    "plt.ylim(0, 1.5)\n",
    "plt.show()"
   ]
  },
  {
   "cell_type": "code",
   "execution_count": 29,
   "metadata": {},
   "outputs": [
    {
     "name": "stdout",
     "output_type": "stream",
     "text": [
      "GridSearchCV(cv=None, error_score='raise',\n",
      "       estimator=SVC(C=1.0, cache_size=200, class_weight=None, coef0=0.0,\n",
      "  decision_function_shape='ovr', degree=3, gamma='auto', kernel='rbf',\n",
      "  max_iter=-1, probability=False, random_state=None, shrinking=True,\n",
      "  tol=0.001, verbose=False),\n",
      "       fit_params=None, iid=True, n_jobs=1,\n",
      "       param_grid={'kernel': ('linear', 'poly', 'rbf', 'sigmoid'), 'C': [1, 10], 'gamma': [1, 10]},\n",
      "       pre_dispatch='2*n_jobs', refit=True, return_train_score='warn',\n",
      "       scoring=None, verbose=0)\n"
     ]
    }
   ],
   "source": [
    "parameters = {'kernel':('linear','poly','rbf','sigmoid'), 'C':[1, 10],'gamma':[1,10]}\n",
    "model = SVC()\n",
    "clf = model_selection.GridSearchCV(model, parameters)\n",
    "\n",
    "clf.fit(xtrain,ytrain)"
   ]
  },
  {
   "cell_type": "code",
   "execution_count": 37,
   "metadata": {},
   "outputs": [
    {
     "data": {
      "text/plain": [
       "SVC(C=1, cache_size=200, class_weight=None, coef0=0.0,\n",
       "  decision_function_shape='ovr', degree=3, gamma=1, kernel='poly',\n",
       "  max_iter=-1, probability=False, random_state=None, shrinking=True,\n",
       "  tol=0.001, verbose=False)"
      ]
     },
     "execution_count": 37,
     "metadata": {},
     "output_type": "execute_result"
    }
   ],
   "source": [
    "clf.best_estimator_"
   ]
  },
  {
   "cell_type": "code",
   "execution_count": 42,
   "metadata": {},
   "outputs": [],
   "source": [
    "ypredTest = clf.predict(xtest)\n",
    "cm = metrics.confusion_matrix(ytest,ypredTest)"
   ]
  },
  {
   "cell_type": "code",
   "execution_count": 43,
   "metadata": {},
   "outputs": [
    {
     "name": "stdout",
     "output_type": "stream",
     "text": [
      "[[132   1   0   0   0   1   1   0   0   1]\n",
      " [  0 164   0   0   0   0   0   1   6   0]\n",
      " [  0   2 148   3   2   1   2   0   1   0]\n",
      " [  0   0   1 151   0   4   0   1   4   0]\n",
      " [  0   0   0   0 141   0   0   0   2   1]\n",
      " [  2   1   0   4   0 138   2   0   0   1]\n",
      " [  2   1   0   0   0   1 126   0   0   0]\n",
      " [  0   2   1   0   0   1   0 137   0   3]\n",
      " [  2   2   1   2   1   1   1   0 137   3]\n",
      " [  0   1   0   4   4   1   1   1   1 144]]\n"
     ]
    }
   ],
   "source": [
    "print(cm)"
   ]
  }
 ],
 "metadata": {
  "kernelspec": {
   "display_name": "Python 3",
   "language": "python",
   "name": "python3"
  },
  "language_info": {
   "codemirror_mode": {
    "name": "ipython",
    "version": 3
   },
   "file_extension": ".py",
   "mimetype": "text/x-python",
   "name": "python",
   "nbconvert_exporter": "python",
   "pygments_lexer": "ipython3",
   "version": "3.6.7"
  }
 },
 "nbformat": 4,
 "nbformat_minor": 2
}
