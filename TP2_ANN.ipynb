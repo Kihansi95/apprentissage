{
 "cells": [
  {
   "cell_type": "markdown",
   "metadata": {},
   "source": [
    "# Rapport du TP2"
   ]
  },
  {
   "cell_type": "markdown",
   "metadata": {},
   "source": [
    "Importation des dépendances liées aux TP:"
   ]
  },
  {
   "cell_type": "code",
   "execution_count": 1,
   "metadata": {},
   "outputs": [],
   "source": [
    "from sklearn import datasets, model_selection\n",
    "from sklearn.metrics import precision_score\n",
    "import numpy as np\n",
    "from sklearn.neural_network import MLPClassifier\n",
    "import matplotlib.pyplot as plt\n",
    "from time import time"
   ]
  },
  {
   "cell_type": "markdown",
   "metadata": {},
   "source": [
    "- Charger le jeu de données MNIST"
   ]
  },
  {
   "cell_type": "code",
   "execution_count": 2,
   "metadata": {},
   "outputs": [
    {
     "name": "stderr",
     "output_type": "stream",
     "text": [
      "D:\\Anaconda3\\envs\\cert-big-data\\lib\\site-packages\\sklearn\\utils\\deprecation.py:77: DeprecationWarning: Function fetch_mldata is deprecated; fetch_mldata was deprecated in version 0.20 and will be removed in version 0.22\n",
      "  warnings.warn(msg, category=DeprecationWarning)\n",
      "D:\\Anaconda3\\envs\\cert-big-data\\lib\\site-packages\\sklearn\\utils\\deprecation.py:77: DeprecationWarning: Function mldata_filename is deprecated; mldata_filename was deprecated in version 0.20 and will be removed in version 0.22\n",
      "  warnings.warn(msg, category=DeprecationWarning)\n"
     ]
    }
   ],
   "source": [
    "mnist = datasets.fetch_mldata('MNIST original')"
   ]
  },
  {
   "cell_type": "markdown",
   "metadata": {},
   "source": [
    "- Diviser la base de données en 49000 lignes pour l’apprentissage (training) et le reste pour les tests"
   ]
  },
  {
   "cell_type": "code",
   "execution_count": 3,
   "metadata": {},
   "outputs": [],
   "source": [
    "index = np.random.randint(70000, size=49000)\n",
    "data = mnist.data[index]\n",
    "target = mnist.target[index]"
   ]
  },
  {
   "cell_type": "markdown",
   "metadata": {},
   "source": [
    "- Construire un modèle de classification ayant comme paramètre: `hidden_layer_sizes = (50)`, puis calculez la précession du classifieur "
   ]
  },
  {
   "cell_type": "code",
   "execution_count": 4,
   "metadata": {},
   "outputs": [
    {
     "name": "stdout",
     "output_type": "stream",
     "text": [
      "Préscession =  0.9531632653061225\n"
     ]
    }
   ],
   "source": [
    "# Construire modèle\n",
    "MLP_model = MLPClassifier(hidden_layer_sizes=(50))\n",
    "\n",
    "# Choisir données d'apprentissage et du test\n",
    "x_train, x_test, y_train, y_test = model_selection.train_test_split(data, target, train_size=0.8, test_size=0.2)\n",
    "\n",
    "# Apprendre et mesurer précesion\n",
    "MLP_model.fit(x_train, y_train)\n",
    "y_predict = MLP_model.predict(x_test)\n",
    "\n",
    "# Afficher score\n",
    "print(\"Préscession = \", MLP_model.score(x_test, y_test))"
   ]
  },
  {
   "cell_type": "markdown",
   "metadata": {},
   "source": [
    "- Afficher la classe de l’image 4 et sa classe prédite"
   ]
  },
  {
   "cell_type": "code",
   "execution_count": 5,
   "metadata": {},
   "outputs": [
    {
     "name": "stdout",
     "output_type": "stream",
     "text": [
      "Valeur prédite :  [2.]\n",
      "===========================================\n",
      "L'image: \n"
     ]
    },
    {
     "data": {
      "image/png": "[encoded data removed]",
      "text/plain": [
       "<Figure size 432x288 with 1 Axes>"
      ]
     },
     "metadata": {},
     "output_type": "display_data"
    }
   ],
   "source": [
    "print(\"Valeur prédite : \", MLP_model.predict(x_test[4].reshape(1,-1)))\n",
    "print(\"===========================================\")\n",
    "print(\"L'image: \")\n",
    "plt.imshow(x_test.reshape((-1, 28, 28))[4],cmap=plt.cm.gray_r,interpolation=\"nearest\")\n",
    "plt.show()"
   ]
  },
  {
   "cell_type": "markdown",
   "metadata": {},
   "source": [
    "- Calculez la précession en utilisant le package : `metrics.precision_score(ytest_pr, ypredTest_pr,average='micro')`"
   ]
  },
  {
   "cell_type": "code",
   "execution_count": 6,
   "metadata": {},
   "outputs": [
    {
     "name": "stdout",
     "output_type": "stream",
     "text": [
      "Precision =  0.9531632653061225\n"
     ]
    }
   ],
   "source": [
    "precision = precision_score(y_test, y_predict, average='micro')\n",
    "\n",
    "# Afficher score\n",
    "print(\"Precision = \", precision)"
   ]
  },
  {
   "cell_type": "markdown",
   "metadata": {},
   "source": [
    "- Varier le nombre de la couches de 1 entre (2 et 100) couches, et recalculer la précision du classifieur. "
   ]
  },
  {
   "cell_type": "code",
   "execution_count": 45,
   "metadata": {
    "scrolled": true
   },
   "outputs": [],
   "source": [
    "max_l = 10\n",
    "min_l = 1\n",
    "precisions = np.zeros(max_l - min_l)\n",
    "hidden_layer = (50,)* (max_l-min_l)\n",
    "\n",
    "for n_layer in range (max_l - min_l):\n",
    "    \n",
    "    # split donnée\n",
    "    x_train, x_test, y_train, y_test = model_selection.train_test_split(data, target, train_size=0.8, test_size=0.2)\n",
    "    \n",
    "    # Init modèle\n",
    "    hidden_layer += (50,)\n",
    "    MLP_model = MLPClassifier(hidden_layer_sizes = hidden_layer[0:n_layer])\n",
    "    MLP_model.fit(x_train, y_train)\n",
    "    y_predict = MLP_model.predict(x_test)\n",
    "    \n",
    "    precisions[n_layer] = precision_score(y_test, y_predict, average='micro')"
   ]
  },
  {
   "cell_type": "code",
   "execution_count": 46,
   "metadata": {},
   "outputs": [
    {
     "data": {
      "image/png": "[encoded data removed]",
      "text/plain": [
       "<Figure size 432x288 with 1 Axes>"
      ]
     },
     "metadata": {},
     "output_type": "display_data"
    }
   ],
   "source": [
    "plt.bar(range(min_l, max_l), precisions, color='#355C7D')\n",
    "plt.ylim(0,1.2)\n",
    "for i in range(max_l - min_l):\n",
    "    plt.text(i+1, precisions[i], \"%.2f\" % precisions[i], fontweight='bold', color='#F67280', ha='center', va='bottom')\n",
    "    \n",
    "plt.xlabel(\"Nombre de couches\")\n",
    "plt.ylabel(\"Précision\")\n",
    "plt.show()"
   ]
  },
  {
   "cell_type": "markdown",
   "metadata": {},
   "source": [
    "- Construire cinq modèles de classification des données mnist, avec des réseaux qui ont respectivement de 1 à 10 couches cachées, et des tailles de \n",
    "couches entre 10 et 300 au choix d’une façon aléatoire. Quelles sont les performances en taux de bonne classification et en temps d’apprentissage \n",
    "obtenus pour chaque modèle ? Utilisez la fonction `time()` du package time pour mesurer le temps d’apprentissage d’un modèle.   "
   ]
  },
  {
   "cell_type": "code",
   "execution_count": 32,
   "metadata": {},
   "outputs": [],
   "source": [
    "# nb_hidden_layer == nombre de couche pour le modèle courant\n",
    "temps_exec = np.zeros(5)\n",
    "precisions = np.zeros(5)\n",
    "for model in range(5):\n",
    "    \n",
    "    nb_hidden_layer = model * 2\n",
    "    t_before = time()\n",
    "    \n",
    "    # Générer la taille de couche aléatoirement\n",
    "    hidden_layer = np.random.randint(10, 300, size = nb_hidden_layer) \n",
    "    \n",
    "    # Transformer en tuple\n",
    "    hidden_layer = tuple(hidden_layer.reshape(1, -1)[0])          \n",
    "\n",
    "    # Apprentissage\n",
    "    MLP_model = MLPClassifier(hidden_layer_sizes = hidden_layer)\n",
    "    x_train, x_test, y_train, y_test = model_selection.train_test_split(data, target, train_size=0.8, test_size=0.2)\n",
    "    MLP_model.fit(x_train, y_train)\n",
    "    \n",
    "    # Calcul le temps d'exec\n",
    "    t_after = time()\n",
    "    temps_exec[model] = t_after - t_before\n",
    "        \n",
    "    # Calcul précision\n",
    "    y_predict = MLP_model.predict(x_test)\n",
    "    precisions[model] = precision_score(y_test, y_predict, average='micro')"
   ]
  },
  {
   "cell_type": "code",
   "execution_count": 41,
   "metadata": {},
   "outputs": [
    {
     "data": {
      "image/png": "[encoded data removed]",
      "text/plain": [
       "<Figure size 432x288 with 2 Axes>"
      ]
     },
     "metadata": {},
     "output_type": "display_data"
    }
   ],
   "source": [
    "plt.subplot(2, 1, 1)\n",
    "plt.bar(range(5), precisions, color='#355C7D')\n",
    "plt.ylim(0,1.2)\n",
    "for i in range(5):\n",
    "    plt.text(i, precisions[i], \"%.2f\"%precisions[i], fontweight='bold', color='#F67280', ha='center', va='bottom')\n",
    "\n",
    "plt.subplot(2, 1, 2)\n",
    "plt.bar(range(5), temps_exec, color='#83AF9B')\n",
    "plt.ylim(0, 70)\n",
    "for i in range(5):\n",
    "    plt.text(i, temps_exec[i], \"%.2f\"%temps_exec[i], fontweight='bold', color='#F67280', ha='center', va='bottom')\n",
    "\n",
    "plt.xlabel(\"Nombre de couche\")\n",
    "plt.show() "
   ]
  },
  {
   "cell_type": "markdown",
   "metadata": {},
   "source": [
    "- Etudier la convergence des algorithmes d’optimisation disponibles : **L-BFGS**, **SGD** et **Adam**. "
   ]
  },
  {
   "cell_type": "code",
   "execution_count": 32,
   "metadata": {},
   "outputs": [
    {
     "name": "stdout",
     "output_type": "stream",
     "text": [
      "lbfgs \t| 53.25824546813965 \t| 0.9241836734693878\n",
      "sgd \t| 33.434988498687744 \t| 0.946734693877551\n",
      "adam \t| 9.330799579620361 \t| 0.9611224489795919\n",
      "Meilleur solver :  adam\n"
     ]
    }
   ],
   "source": [
    "x_train, x_test, y_train, y_test = model_selection.train_test_split(data, target, train_size=0.8, test_size=0.2)\n",
    "solvers = ['lbfgs', 'sgd', 'adam']\n",
    "temps_execs = np.zeros(3)\n",
    "precisions = np.zeros(3)\n",
    "\n",
    "for i in range(3):\n",
    "    \n",
    "    t_before = time()\n",
    "    \n",
    "    MLP_model = MLPClassifier(hidden_layer_sizes = (50,50,50) ,solver = solvers[i])\n",
    "    MLP_model.fit(x_train, y_train)\n",
    "    \n",
    "    t_after = time()\n",
    "    temps_execs[i] = t_after - t_before\n",
    "    y_predict = MLP_model.predict(x_test)\n",
    "    precisions[i] = precision_score(y_test, y_predict, average='micro')\n",
    "    \n",
    "    print(solvers[i], '\\t|', temps_execs[i], '\\t|', precisions[i])\n",
    "    \n",
    "print(\"Meilleur solver : \", solvers[ np.argmin(temps_execs) ])"
   ]
  },
  {
   "cell_type": "markdown",
   "metadata": {},
   "source": [
    "- Varier les fonctions d’activation **{‘identity’, ‘logistic’, ‘tanh’, ‘relu’}**"
   ]
  },
  {
   "cell_type": "code",
   "execution_count": 63,
   "metadata": {},
   "outputs": [
    {
     "name": "stdout",
     "output_type": "stream",
     "text": [
      "identity \t| 21.195919513702393 \t| 0.9031632653061225\n",
      "logistic \t| 26.84736680984497 \t| 0.9210204081632654\n",
      "tanh \t| 17.061084747314453 \t| 0.9166326530612245\n",
      "Meilleur activateur :  tanh\n"
     ]
    }
   ],
   "source": [
    "x_train, x_test, y_train, y_test = model_selection.train_test_split(data, target, train_size=0.8, test_size=0.2)\n",
    "activations = ['identity', 'logistic', 'tanh', 'relu']\n",
    "temps_execs = np.zeros(3)\n",
    "precisions = np.zeros(3)\n",
    "\n",
    "for i in range(3):\n",
    "    t_before = time()\n",
    "    \n",
    "    MLP_model = MLPClassifier(hidden_layer_sizes = (50,50,50), solver='adam', activation = activations[i])\n",
    "    MLP_model.fit(x_train, y_train)\n",
    "    \n",
    "    t_after = time()\n",
    "    temps_execs[i] = t_after - t_before\n",
    "    y_predict = MLP_model.predict(x_test)\n",
    "    precisions[i] = precision_score(y_test, y_predict, average='micro')\n",
    "    \n",
    "    print(activations[i], '\\t|', temps_execs[i], '\\t|', precisions[i])\n",
    "\n",
    "print(\"Meilleur activateur : \", activations[ np.argmin(temps_execs) ])"
   ]
  },
  {
   "cell_type": "markdown",
   "metadata": {},
   "source": [
    "- Changer la valeur de la régularisation L2 (paramètre α)"
   ]
  },
  {
   "cell_type": "code",
   "execution_count": 66,
   "metadata": {},
   "outputs": [
    {
     "name": "stdout",
     "output_type": "stream",
     "text": [
      "alpha \t| temps exec \t\t| precision\n",
      "1e-10 \t| 27.52830719947815 \t| 0.9079591836734694\n",
      "7.278953843983161e-10 \t| 23.7465341091156 \t| 0.9102040816326531\n",
      "5.298316906283702e-09 \t| 15.362519264221191 \t| 0.8953061224489796\n",
      "3.8566204211634724e-08 \t| 20.62122869491577 \t| 0.8931632653061224\n",
      "2.807216203941176e-07 \t| 20.632662296295166 \t| 0.898469387755102\n",
      "2.0433597178569395e-06 \t| 16.432379007339478 \t| 0.8960204081632653\n",
      "1.4873521072935119e-05 \t| 22.62927269935608 \t| 0.8914285714285715\n",
      "0.00010826367338740541 \t| 31.239237070083618 \t| 0.9057142857142857\n",
      "0.0007880462815669905 \t| 32.83896088600159 \t| 0.9059183673469388\n",
      "0.00573615251044867 \t| 25.65678119659424 \t| 0.9053061224489796\n",
      "0.04175318936560392 \t| 26.92153525352478 \t| 0.9070408163265307\n",
      "0.3039195382313195 \t| 41.135924339294434 \t| 0.905\n",
      "2.21221629107045 \t| 68.32055711746216 \t| 0.9159183673469388\n",
      "16.10262027560936 \t| 62.98365044593811 \t| 0.9036734693877551\n",
      "117.21022975334793 \t| 22.750966548919678 \t| 0.8615306122448979\n",
      "853.1678524172779 \t| 12.67863154411316 \t| 0.11326530612244898\n",
      "6210.169418915603 \t| 6.359323024749756 \t| 0.11326530612244898\n",
      "45203.53656360241 \t| 6.989433288574219 \t| 0.11326530612244898\n",
      "329034.45623126574 \t| 7.8182008266448975 \t| 0.11326530612244898\n",
      "2395026.619987471 \t| 8.165594816207886 \t| 0.11326530612244898\n",
      "17433288.2219998 \t| 6.994524240493774 \t| 0.11326530612244898\n",
      "126896100.31679182 \t| 7.860775709152222 \t| 0.11326530612244898\n",
      "923670857.1873846 \t| 7.77078914642334 \t| 0.11326530612244898\n",
      "6723357536.499335 \t| 7.058922290802002 \t| 0.11326530612244898\n",
      "48939009184.774994 \t| 7.609610319137573 \t| 0.11326530612244898\n",
      "356224789026.24225 \t| 8.378166913986206 \t| 0.11326530612244898\n",
      "2592943797404.6562 \t| 8.148111343383789 \t| 0.11326530612244898\n",
      "18873918221350.918 \t| 6.3361852169036865 \t| 0.11326530612244898\n",
      "137382379588326.1 \t| 6.78558349609375 \t| 0.11326530612244898\n",
      "1000000000000000.0 \t| 7.900729179382324 \t| 0.11326530612244898\n",
      "Meilleur alpha :  18873918221350.918\n"
     ]
    }
   ],
   "source": [
    "x_train, x_test, y_train, y_test = model_selection.train_test_split(data, target, train_size=0.8, test_size=0.2)\n",
    "alphas = np.logspace(-10, 15, 30)\n",
    "temps_execs = np.zeros(alphas.size)\n",
    "precisions = np.zeros(alphas.size)\n",
    "print(\"alpha \\t| temps exec \\t\\t| precision\")\n",
    "\n",
    "for i in range(alphas.size):\n",
    "    t_before = time()\n",
    "    \n",
    "    MLP_model = MLPClassifier(hidden_layer_sizes = (50,50,50), solver = 'adam', activation = 'identity', alpha = alphas[i])\n",
    "    MLP_model.fit(x_train, y_train)\n",
    "    \n",
    "    t_after = time()\n",
    "    temps_execs[i] = t_after - t_before\n",
    "    y_predict = MLP_model.predict(x_test)\n",
    "    precisions[i] = precision_score(y_test, y_predict, average='micro')\n",
    "    \n",
    "    print(alphas[i], '\\t|', temps_execs[i], '\\t|', precisions[i])\n",
    "\n",
    "print(\"Meilleur alpha : \", alphas[ np.argmin(temps_execs) ])"
   ]
  },
  {
   "cell_type": "code",
   "execution_count": 67,
   "metadata": {},
   "outputs": [
    {
     "data": {
      "image/png": "[encoded data removed]",
      "text/plain": [
       "<Figure size 432x288 with 2 Axes>"
      ]
     },
     "metadata": {},
     "output_type": "display_data"
    }
   ],
   "source": [
    "plt.subplot(2, 1, 1)\n",
    "plt.plot(alphas, precisions, color='#355C7D')\n",
    "plt.ylabel(\"Precision\")\n",
    "\n",
    "plt.subplot(2, 1, 2)\n",
    "plt.plot(alphas, temps_execs, color='#83AF9B')\n",
    "plt.ylabel(\"Temps d'exécution\")\n",
    "\n",
    "plt.show() "
   ]
  },
  {
   "cell_type": "markdown",
   "metadata": {},
   "source": [
    "- Choisissez le modèle qui propose de meilleurs résultats"
   ]
  },
  {
   "cell_type": "code",
   "execution_count": null,
   "metadata": {},
   "outputs": [],
   "source": []
  },
  {
   "cell_type": "markdown",
   "metadata": {},
   "source": [
    "- Sur chacun des cas précédents, tracez les différentes courbes d'erreurs."
   ]
  },
  {
   "cell_type": "code",
   "execution_count": null,
   "metadata": {},
   "outputs": [],
   "source": []
  },
  {
   "cell_type": "markdown",
   "metadata": {},
   "source": [
    "- A votre avis, quels sont les avantages et les inconvénients des A-nn : optimalité ? temps de calcul ? passage à l'échelle ? "
   ]
  },
  {
   "cell_type": "markdown",
   "metadata": {},
   "source": [
    "**Ans**: \n",
    "- **ANN** permets d'avoir une mieux précision par rapport à d'autre méthode. Cependant c'est coûteux en temps et en ressource pour l'apprentissage.\n",
    "- Le passage à l'échelle de **ANN** est possible, cette méthode permets effectivement l'apprentissage en batch. Elle permets également à s'adapter au changement de comportement du sujet observé."
   ]
  }
 ],
 "metadata": {
  "kernelspec": {
   "display_name": "Python 3",
   "language": "python",
   "name": "python3"
  },
  "language_info": {
   "codemirror_mode": {
    "name": "ipython",
    "version": 3
   },
   "file_extension": ".py",
   "mimetype": "text/x-python",
   "name": "python",
   "nbconvert_exporter": "python",
   "pygments_lexer": "ipython3",
   "version": "3.6.6"
  }
 },
 "nbformat": 4,
 "nbformat_minor": 2
}
