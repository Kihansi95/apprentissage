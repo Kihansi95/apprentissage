{
 "cells": [
  {
   "cell_type": "code",
   "execution_count": 1,
   "metadata": {},
   "outputs": [
    {
     "name": "stderr",
     "output_type": "stream",
     "text": [
      "C:\\Users\\moham\\Anaconda3\\lib\\site-packages\\sklearn\\model_selection\\_split.py:2026: FutureWarning: From version 0.21, test_size will always complement train_size unless both are specified.\n",
      "  FutureWarning)\n"
     ]
    }
   ],
   "source": [
    "from sklearn import datasets\n",
    "import matplotlib.pyplot as plt \n",
    "from sklearn import datasets\n",
    "from sklearn import neural_network\n",
    "from sklearn import model_selection\n",
    "from sklearn import metrics\n",
    "\n",
    "import numpy as np\n",
    "import matplotlib.pyplot as plt\n",
    "\n",
    "mnist = datasets.fetch_mldata('MNIST original')\n",
    "\n",
    "model = neural_network.MLPClassifier(hidden_layer_sizes=(50))\n",
    "xtrain,xtest,ytrain,ytest = model_selection.train_test_split(mnist.data,mnist.target,train_size=0.7)"
   ]
  },
  {
   "cell_type": "code",
   "execution_count": 31,
   "metadata": {},
   "outputs": [
    {
     "name": "stdout",
     "output_type": "stream",
     "text": [
      "0.9459047619047619\n"
     ]
    }
   ],
   "source": [
    "model.fit(xtrain,ytrain)\n",
    "print(model.score(xtest,ytest))"
   ]
  },
  {
   "cell_type": "code",
   "execution_count": 21,
   "metadata": {},
   "outputs": [
    {
     "name": "stdout",
     "output_type": "stream",
     "text": [
      "Classe de 4 : 0.0\n",
      "Prediction : [0.]\n"
     ]
    },
    {
     "data": {
      "image/png": "[encoded data removed]",
      "text/plain": [
       "<Figure size 432x288 with 1 Axes>"
      ]
     },
     "metadata": {
      "needs_background": "light"
     },
     "output_type": "display_data"
    }
   ],
   "source": [
    "print(\"Classe de 4 :\",mnist.target[4])\n",
    "print(\"Prediction :\",model.predict(mnist.data[4].reshape(1,-1)))\n",
    "\n",
    "image = mnist.data.reshape((-1, 28, 28))[4]\n",
    "plt.imshow(image,cmap=plt.cm.gray_r,interpolation=\"nearest\")\n",
    "plt.show() "
   ]
  },
  {
   "cell_type": "code",
   "execution_count": 32,
   "metadata": {},
   "outputs": [
    {
     "name": "stdout",
     "output_type": "stream",
     "text": [
      "0.9459047619047619\n"
     ]
    }
   ],
   "source": [
    "ypredTest_pr = model.predict(xtest)\n",
    "print(metrics.precision_score(ytest, ypredTest_pr,average='micro'))"
   ]
  },
  {
   "cell_type": "code",
   "execution_count": 44,
   "metadata": {},
   "outputs": [
    {
     "name": "stdout",
     "output_type": "stream",
     "text": [
      "Pour 2 couches : Score = 0.9015238095238095 / Predicte score= 0.9015238095238095\n",
      "Pour 3 couches : Score = 0.9222380952380952 / Predicte score= 0.9222380952380952\n",
      "Pour 4 couches : Score = 0.9217619047619048 / Predicte score= 0.9217619047619048\n",
      "Pour 5 couches : Score = 0.9 / Predicte score= 0.9\n",
      "Pour 6 couches : Score = 0.9223333333333333 / Predicte score= 0.9223333333333333\n",
      "Pour 7 couches : Score = 0.9251904761904762 / Predicte score= 0.9251904761904762\n",
      "Pour 8 couches : Score = 0.8972857142857142 / Predicte score= 0.8972857142857142\n",
      "Pour 9 couches : Score = 0.9292857142857143 / Predicte score= 0.9292857142857143\n"
     ]
    }
   ],
   "source": [
    "scores = []\n",
    "for i in range(2,10):\n",
    "    \n",
    "    t = list()\n",
    "\n",
    "    for x in range(i):\n",
    "        t.append(10)\n",
    "    \n",
    "    model = neural_network.MLPClassifier(hidden_layer_sizes=tuple(t))\n",
    "    model.fit(xtrain,ytrain)\n",
    "    \n",
    "    ypredTest_pr = model.predict(xtest)\n",
    "    \n",
    "    score = model.score(xtest,ytest)\n",
    "    \n",
    "    scores.append(score)\n",
    "    \n",
    "    print(\"Pour\",i,\"couches : Score =\",score,\"/ Predicte score=\",metrics.precision_score(ytest, ypredTest_pr,average='micro'))"
   ]
  },
  {
   "cell_type": "code",
   "execution_count": 47,
   "metadata": {},
   "outputs": [
    {
     "data": {
      "image/png": "[encoded data removed]",
      "text/plain": [
       "<Figure size 432x288 with 1 Axes>"
      ]
     },
     "metadata": {
      "needs_background": "light"
     },
     "output_type": "display_data"
    }
   ],
   "source": [
    "plt.bar(range(2,10),scores)\n",
    "plt.xlabel('Nombre de couches')\n",
    "plt.ylabel('Score')\n",
    "plt.ylim(0.89, 0.94)\n",
    "plt.show()"
   ]
  },
  {
   "cell_type": "code",
   "execution_count": 12,
   "metadata": {},
   "outputs": [
    {
     "name": "stdout",
     "output_type": "stream",
     "text": [
      "Pour 1 couches avec 203  neurons: Score = 0.9565238095238096  Temps = 43.95247220993042 error = 0.043476190476190446\n",
      "Pour 2 couches avec 275  neurons: Score = 0.9667142857142857  Temps = 113.6341450214386 error = 0.03328571428571425\n",
      "Pour 3 couches avec 153  neurons: Score = 0.9537619047619048  Temps = 27.601195335388184 error = 0.04623809523809519\n",
      "Pour 4 couches avec 141  neurons: Score = 0.9611428571428572  Temps = 35.113107204437256 error = 0.03885714285714281\n",
      "Pour 5 couches avec 177  neurons: Score = 0.9697142857142858  Temps = 125.94622206687927 error = 0.03028571428571425\n"
     ]
    }
   ],
   "source": [
    "import random\n",
    "import time\n",
    "\n",
    "errors = []\n",
    "rands = []\n",
    "scores = []\n",
    "times = []\n",
    "for i in range(1,6):\n",
    "    start = time.time()\n",
    "    t = list()\n",
    "    \n",
    "    rand = random.randint(10,300)\n",
    "    \n",
    "    for x in range(i):\n",
    "        t.append(rand)\n",
    "    \n",
    "    model = neural_network.MLPClassifier(hidden_layer_sizes=tuple(t))\n",
    "    model.fit(xtrain,ytrain)\n",
    "    \n",
    "    ypredTest_pr = model.predict(xtest)\n",
    "    \n",
    "    score = model.score(xtest,ytest)\n",
    "    end = time.time()\n",
    "    \n",
    "    ypredTest = model.predict(xtest)\n",
    "    \n",
    "    error = metrics.zero_one_loss(ytest, ypredTest)\n",
    "    \n",
    "    errors.append(error)\n",
    "    \n",
    "    rands.append(rand)\n",
    "    times.append(end - start)\n",
    "    scores.append(score)\n",
    "    \n",
    "    print(\"Pour\",i,\"couches avec\",rand,\" neurons: Score =\",score,\" Temps =\",end - start,\"error =\",error)"
   ]
  },
  {
   "cell_type": "code",
   "execution_count": 13,
   "metadata": {},
   "outputs": [
    {
     "data": {
      "image/png": "[encoded data removed]",
      "text/plain": [
       "<Figure size 432x288 with 1 Axes>"
      ]
     },
     "metadata": {
      "needs_background": "light"
     },
     "output_type": "display_data"
    },
    {
     "data": {
      "image/png": "[encoded data removed]",
      "text/plain": [
       "<Figure size 432x288 with 1 Axes>"
      ]
     },
     "metadata": {
      "needs_background": "light"
     },
     "output_type": "display_data"
    }
   ],
   "source": [
    "plt.bar(range(1,6),scores)\n",
    "plt.xlabel('Nombre de couches')\n",
    "plt.ylabel('Score')\n",
    "plt.ylim(0.94, 0.98)\n",
    "plt.show()\n",
    "plt.bar(range(1,6),times)\n",
    "plt.xlabel('Nombre de couches')\n",
    "plt.ylabel('temps (s)')\n",
    "plt.show()"
   ]
  },
  {
   "cell_type": "code",
   "execution_count": 2,
   "metadata": {},
   "outputs": [
    {
     "name": "stdout",
     "output_type": "stream",
     "text": [
      "Pour 1 couches avec 50 neurons avec le solver lbfgs : Score = 0.9075238095238095  Temps = 110.15145492553711 error = 0.09247619047619049\n",
      "Pour 1 couches avec 50 neurons avec le solver sgd : Score = 0.8782857142857143  Temps = 57.59201693534851 error = 0.12171428571428566\n",
      "Pour 1 couches avec 50 neurons avec le solver adam : Score = 0.947  Temps = 54.94607615470886 error = 0.05300000000000005\n"
     ]
    }
   ],
   "source": [
    "import time\n",
    "\n",
    "errors = []\n",
    "scores = []\n",
    "times = []\n",
    "for i in ['lbfgs','sgd','adam']:\n",
    "    start = time.time()\n",
    "\n",
    "    model = neural_network.MLPClassifier(hidden_layer_sizes=(50),solver=i)\n",
    "    model.fit(xtrain,ytrain)\n",
    "    \n",
    "    ypredTest_pr = model.predict(xtest)\n",
    "    \n",
    "    score = model.score(xtest,ytest)\n",
    "    end = time.time()\n",
    "    \n",
    "    ypredTest = model.predict(xtest)\n",
    "    \n",
    "    error = metrics.zero_one_loss(ytest, ypredTest)\n",
    "    \n",
    "    errors.append(error)\n",
    "    \n",
    "    times.append(end - start)\n",
    "    scores.append(score)\n",
    "    \n",
    "    print(\"Pour 1 couches avec 50 neurons avec le solver\",i,\": Score =\",score,\" Temps =\",end - start,\"error =\",error)"
   ]
  },
  {
   "cell_type": "code",
   "execution_count": 7,
   "metadata": {},
   "outputs": [
    {
     "data": {
      "image/png": "[encoded data removed]",
      "text/plain": [
       "<Figure size 432x288 with 1 Axes>"
      ]
     },
     "metadata": {
      "needs_background": "light"
     },
     "output_type": "display_data"
    },
    {
     "data": {
      "image/png": "[encoded data removed]",
      "text/plain": [
       "<Figure size 432x288 with 1 Axes>"
      ]
     },
     "metadata": {
      "needs_background": "light"
     },
     "output_type": "display_data"
    }
   ],
   "source": [
    "plt.bar(range(1,4),scores)\n",
    "plt.xlabel('Nombre de couches')\n",
    "plt.ylabel('Score')\n",
    "plt.ylim(0.85, 0.96)\n",
    "plt.show()\n",
    "plt.bar(range(1,4),times)\n",
    "plt.xlabel('Nombre de couches')\n",
    "plt.ylabel('temps (s)')\n",
    "plt.show()"
   ]
  },
  {
   "cell_type": "code",
   "execution_count": 8,
   "metadata": {},
   "outputs": [
    {
     "name": "stdout",
     "output_type": "stream",
     "text": [
      "Pour 1 couches avec 50 neurons avec le activation identity : Score = 0.9017142857142857  Temps = 27.579248666763306 error = 0.09828571428571431\n",
      "Pour 1 couches avec 50 neurons avec le activation logistic : Score = 0.9284761904761905  Temps = 21.67703676223755 error = 0.07152380952380955\n",
      "Pour 1 couches avec 50 neurons avec le activation tanh : Score = 0.9043809523809524  Temps = 17.053398370742798 error = 0.0956190476190476\n",
      "Pour 1 couches avec 50 neurons avec le activation relu : Score = 0.9464761904761905  Temps = 37.64531183242798 error = 0.05352380952380953\n"
     ]
    }
   ],
   "source": [
    "import time\n",
    "\n",
    "errors = []\n",
    "scores = []\n",
    "times = []\n",
    "for i in ['identity','logistic','tanh','relu']:\n",
    "    start = time.time()\n",
    "\n",
    "    model = neural_network.MLPClassifier(hidden_layer_sizes=(50),activation=i)\n",
    "    model.fit(xtrain,ytrain)\n",
    "    \n",
    "    ypredTest_pr = model.predict(xtest)\n",
    "    \n",
    "    score = model.score(xtest,ytest)\n",
    "    end = time.time()\n",
    "    \n",
    "    ypredTest = model.predict(xtest)\n",
    "    \n",
    "    error = metrics.zero_one_loss(ytest, ypredTest)\n",
    "    \n",
    "    errors.append(error)\n",
    "    \n",
    "    times.append(end - start)\n",
    "    scores.append(score)\n",
    "    \n",
    "    print(\"Pour 1 couches avec 50 neurons avec le activation\",i,\": Score =\",score,\" Temps =\",end - start,\"error =\",error)"
   ]
  },
  {
   "cell_type": "code",
   "execution_count": 11,
   "metadata": {},
   "outputs": [
    {
     "data": {
      "image/png": "[encoded data removed]",
      "text/plain": [
       "<Figure size 432x288 with 1 Axes>"
      ]
     },
     "metadata": {
      "needs_background": "light"
     },
     "output_type": "display_data"
    },
    {
     "data": {
      "image/png": "[encoded data removed]",
      "text/plain": [
       "<Figure size 432x288 with 1 Axes>"
      ]
     },
     "metadata": {
      "needs_background": "light"
     },
     "output_type": "display_data"
    }
   ],
   "source": [
    "plt.bar(range(1,5),scores)\n",
    "plt.xlabel('Nombre de couches')\n",
    "plt.ylabel('Score')\n",
    "plt.ylim(0.88, 0.95)\n",
    "plt.show()\n",
    "plt.bar(range(1,5),times)\n",
    "plt.xlabel('Nombre de couches')\n",
    "plt.ylabel('temps (s)')\n",
    "plt.show()"
   ]
  },
  {
   "cell_type": "code",
   "execution_count": 12,
   "metadata": {},
   "outputs": [
    {
     "name": "stdout",
     "output_type": "stream",
     "text": [
      "Pour 1 couches avec 50 neurons avec le alpha 0.001 : Score = 0.9476666666666667  Temps = 43.58844447135925 error = 0.05233333333333334\n",
      "Pour 1 couches avec 50 neurons avec le alpha 0.002 : Score = 0.9503333333333334  Temps = 36.62107515335083 error = 0.04966666666666664\n",
      "Pour 1 couches avec 50 neurons avec le alpha 0.003 : Score = 0.9449047619047619  Temps = 77.76291704177856 error = 0.055095238095238086\n",
      "Pour 1 couches avec 50 neurons avec le alpha 0.004 : Score = 0.9485238095238095  Temps = 81.64169263839722 error = 0.05147619047619045\n",
      "Pour 1 couches avec 50 neurons avec le alpha 0.005 : Score = 0.9516666666666667  Temps = 91.95411849021912 error = 0.04833333333333334\n",
      "Pour 1 couches avec 50 neurons avec le alpha 0.006 : Score = 0.947952380952381  Temps = 73.80963444709778 error = 0.05204761904761901\n",
      "Pour 1 couches avec 50 neurons avec le alpha 0.007 : Score = 0.948952380952381  Temps = 113.57456541061401 error = 0.05104761904761901\n",
      "Pour 1 couches avec 50 neurons avec le alpha 0.008 : Score = 0.9442380952380952  Temps = 54.2425422668457 error = 0.05576190476190479\n",
      "Pour 1 couches avec 50 neurons avec le alpha 0.009 : Score = 0.9483333333333334  Temps = 99.41204023361206 error = 0.05166666666666664\n",
      "Pour 1 couches avec 50 neurons avec le alpha 0.01 : Score = 0.945047619047619  Temps = 42.74470138549805 error = 0.054952380952380975\n"
     ]
    }
   ],
   "source": [
    "import time\n",
    "\n",
    "errors = []\n",
    "scores = []\n",
    "times = []\n",
    "for i in range(1,11):\n",
    "    start = time.time()\n",
    "\n",
    "    model = neural_network.MLPClassifier(hidden_layer_sizes=(50),alpha=i/1000)\n",
    "    model.fit(xtrain,ytrain)\n",
    "    \n",
    "    ypredTest_pr = model.predict(xtest)\n",
    "    \n",
    "    score = model.score(xtest,ytest)\n",
    "    end = time.time()\n",
    "    \n",
    "    ypredTest = model.predict(xtest)\n",
    "    \n",
    "    error = metrics.zero_one_loss(ytest, ypredTest)\n",
    "    \n",
    "    errors.append(error)\n",
    "    \n",
    "    times.append(end - start)\n",
    "    scores.append(score)\n",
    "    \n",
    "    print(\"Pour 1 couches avec 50 neurons avec le alpha\",i/1000,\": Score =\",score,\" Temps =\",end - start,\"error =\",error)"
   ]
  },
  {
   "cell_type": "code",
   "execution_count": 15,
   "metadata": {},
   "outputs": [
    {
     "data": {
      "image/png": "[encoded data removed]",
      "text/plain": [
       "<Figure size 432x288 with 1 Axes>"
      ]
     },
     "metadata": {
      "needs_background": "light"
     },
     "output_type": "display_data"
    },
    {
     "data": {
      "image/png": "[encoded data removed]",
      "text/plain": [
       "<Figure size 432x288 with 1 Axes>"
      ]
     },
     "metadata": {
      "needs_background": "light"
     },
     "output_type": "display_data"
    }
   ],
   "source": [
    "plt.bar(range(1,11),scores)\n",
    "plt.xlabel('Nombre de couches')\n",
    "plt.ylabel('Score')\n",
    "plt.ylim(0.94, 0.96)\n",
    "plt.show()\n",
    "plt.bar(range(1,11),times)\n",
    "plt.xlabel('Nombre de couches')\n",
    "plt.ylabel('temps (s)')\n",
    "plt.show()"
   ]
  }
 ],
 "metadata": {
  "kernelspec": {
   "display_name": "Python 3",
   "language": "python",
   "name": "python3"
  },
  "language_info": {
   "codemirror_mode": {
    "name": "ipython",
    "version": 3
   },
   "file_extension": ".py",
   "mimetype": "text/x-python",
   "name": "python",
   "nbconvert_exporter": "python",
   "pygments_lexer": "ipython3",
   "version": "3.6.5"
  }
 },
 "nbformat": 4,
 "nbformat_minor": 2
}
